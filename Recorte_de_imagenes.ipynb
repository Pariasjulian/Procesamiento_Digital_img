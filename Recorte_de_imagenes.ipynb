{
  "nbformat": 4,
  "nbformat_minor": 0,
  "metadata": {
    "colab": {
      "provenance": [],
      "collapsed_sections": [
        "3V2vjxbTmORx"
      ],
      "include_colab_link": true
    },
    "kernelspec": {
      "name": "python3",
      "display_name": "Python 3"
    },
    "language_info": {
      "name": "python"
    }
  },
  "cells": [
    {
      "cell_type": "markdown",
      "metadata": {
        "id": "view-in-github",
        "colab_type": "text"
      },
      "source": [
        "<a href=\"https://colab.research.google.com/github/Pariasjulian/Procesamiento_Digital_img/blob/main/Recorte_de_imagenes.ipynb\" target=\"_parent\"><img src=\"https://colab.research.google.com/assets/colab-badge.svg\" alt=\"Open In Colab\"/></a>"
      ]
    },
    {
      "cell_type": "markdown",
      "source": [
        "# Numpy\n",
        "\n",
        "> Numpy es el acrónimo  de _Numerical Python_ , un paquete (\"librería\") libre y de código abierto utilizado para crear y procesar tensores (arreglos mutidimensionales) [1](https://www.tutorialspoint.com/numpy/index.htm).\n",
        "\n",
        "Utilizando numpy se pueden realizar los siguientes tipos de operaciones sobre los tensores:\n",
        "\n",
        "1. Matemáticas y Lógicas\n",
        "2. Transformadas (ej. Fourier)\n",
        "3. Operaciones de álgebra lineal, estadísticas, etc...\n",
        "\n",
        "Numpy es utilizado frecuentemente en conjunto con paquetes como **Scipy** y **Matplotlib** con el fin de reemplazar **MatLab**\n",
        "\n",
        "## Instalación \n",
        "\n",
        "Administrador de paquetes\n",
        "1. pip\n",
        " - ```python\n",
        "pip install numpy\n",
        "```\n",
        "\n",
        " - Versión especifíca\n",
        " ```python\n",
        "pip install numpy==1.3.0\n",
        "```\n",
        "\n",
        " - Actualizar\n",
        " ```python\n",
        "pip install --upgrade numpy\n",
        "```\n",
        "\n",
        " - Desinstalar \n",
        " ```python\n",
        "pip uninstall numpy\n",
        "```\n",
        "\n",
        "2. conda\n",
        " - ```python\n",
        "conda install numpy\n",
        "```\n",
        "\n",
        " - Versión especifíca\n",
        " ```python\n",
        "conda install numpy==1.3.0\n",
        "```\n",
        "\n",
        " - Actualizar\n",
        " ```python\n",
        "conda install --upgrade numpy\n",
        "```\n",
        "\n",
        " - Desinstalar\n",
        " ```python\n",
        "conda uninstall numpy\n",
        "```\n",
        "\n",
        "El tipo de objeto más importante definido en numpy es el **ndarray** (N-dimensional array --> Tensor). Este describe una colección de elementos del _mismo tipo_ (**dtype**) representado por los tipos de datos primitivos de python, donde cada uno ocupa el mismo espacio en memoria. A diferencia de una lista, tupla o diccinario todos los elementos del conjunto deben ser del **_mismo tipo_**\n",
        "\n",
        "<img src=\"https://drive.google.com/uc?export=view&id=12UNgZ4iiKCZicjB6Z_qTaHOERPmJvmyu\" width=\"80%\" height=\"10%\"/>"
      ],
      "metadata": {
        "id": "TM7s_f-hKxSk"
      }
    },
    {
      "cell_type": "markdown",
      "source": [
        "## Instanciar objeto ndarray\n",
        "\n",
        "Lo primero que se debe de hacer es importar el paquete con todas sus clases y funciones, posteriormente utilizar el constructor de la clase ndarray para crear el objeto ndarray."
      ],
      "metadata": {
        "id": "pMrHQAgDUeeD"
      }
    },
    {
      "cell_type": "code",
      "source": [
        "import numpy as np"
      ],
      "metadata": {
        "id": "YfBgg48lXSlK"
      },
      "execution_count": null,
      "outputs": []
    },
    {
      "cell_type": "markdown",
      "source": [
        "```python\n",
        "np.array(object, dtype, copy, order, subok, ndmin)\n",
        "```\n",
        "donde\n",
        "\n",
        "1. object: Cualquier tipo de dato que represente un conjunto de elementos, tales como listas, tuplas, diccionarios, etc...\n",
        "2. dtype (Opcional): El tipo de datos de los elementos, en caso de que no se especifique se infiere a partir de object.\n",
        "3. copy (Optional): se crea una copia de object.\n",
        "4. order (Optional): Almacenar de forma contigüa por filas o columnas los elementos del conjunto en memoria.\n",
        "5. subok (Optional):\n",
        "6. ndim (Optional): Número minímo de dimensiones."
      ],
      "metadata": {
        "id": "xeGjVu0qU_qG"
      }
    },
    {
      "cell_type": "code",
      "source": [
        "l = [1,2,3,4]"
      ],
      "metadata": {
        "id": "4e9EJgjAWzeI"
      },
      "execution_count": null,
      "outputs": []
    },
    {
      "cell_type": "code",
      "source": [
        "type(l)"
      ],
      "metadata": {
        "colab": {
          "base_uri": "https://localhost:8080/"
        },
        "id": "m08j-7CsjnOb",
        "outputId": "72420914-7eb6-448f-ef63-5c11d3fd1799"
      },
      "execution_count": null,
      "outputs": [
        {
          "output_type": "execute_result",
          "data": {
            "text/plain": [
              "list"
            ]
          },
          "metadata": {},
          "execution_count": 3
        }
      ]
    },
    {
      "cell_type": "code",
      "source": [
        "v = np.array(l)"
      ],
      "metadata": {
        "id": "wW4Klupojr2K"
      },
      "execution_count": null,
      "outputs": []
    },
    {
      "cell_type": "code",
      "source": [
        "type(v)"
      ],
      "metadata": {
        "colab": {
          "base_uri": "https://localhost:8080/"
        },
        "id": "qQkuX8X0jvUh",
        "outputId": "efabf94a-0f58-4950-ce7b-8972c77f1d90"
      },
      "execution_count": null,
      "outputs": [
        {
          "output_type": "execute_result",
          "data": {
            "text/plain": [
              "numpy.ndarray"
            ]
          },
          "metadata": {},
          "execution_count": 5
        }
      ]
    },
    {
      "cell_type": "code",
      "source": [
        "help(v)"
      ],
      "metadata": {
        "id": "Uew2ca12jyFI"
      },
      "execution_count": null,
      "outputs": []
    },
    {
      "cell_type": "code",
      "source": [
        "v"
      ],
      "metadata": {
        "colab": {
          "base_uri": "https://localhost:8080/"
        },
        "id": "x3Wjsj_OkPBa",
        "outputId": "35f873c4-f30e-4b05-a135-5a948e28d4ed"
      },
      "execution_count": null,
      "outputs": [
        {
          "output_type": "execute_result",
          "data": {
            "text/plain": [
              "array([1, 2, 3, 4])"
            ]
          },
          "metadata": {},
          "execution_count": 7
        }
      ]
    },
    {
      "cell_type": "code",
      "source": [
        "v.dtype"
      ],
      "metadata": {
        "colab": {
          "base_uri": "https://localhost:8080/"
        },
        "id": "-xHi4cj8kRQi",
        "outputId": "4fc92011-5aef-4afd-c2a0-fae58ca8082e"
      },
      "execution_count": null,
      "outputs": [
        {
          "output_type": "execute_result",
          "data": {
            "text/plain": [
              "dtype('int64')"
            ]
          },
          "metadata": {},
          "execution_count": 8
        }
      ]
    },
    {
      "cell_type": "code",
      "source": [],
      "metadata": {
        "id": "Zst7gpv5kVCx"
      },
      "execution_count": null,
      "outputs": []
    },
    {
      "cell_type": "markdown",
      "source": [
        "### Tipos de Datos en Numpy\n",
        "\n",
        "1. np.bool_ : (True or False) 1byte\n",
        "2. np.uint: (unsigned integer) np.uint8, np.uint16, np.uint32, np.uint64\n",
        "2. np.int_ : (signed integer) np.int8, np.int16, np.int32, np.int64, np.int_ = (np.int32 or np.int64)\n",
        "3. np.float_: np.float16, np.float32, np.float64, np.float_ = np.float64\n",
        "4. np.complex: np.complex64, np.complex128\n",
        "5. tipos de datos personalizados (**tarea**, crear matriz cuyos elementos sean coordenas en 3D) https://numpy.org/doc/stable/reference/arrays.dtypes.html"
      ],
      "metadata": {
        "id": "cpYQ1GLiUAao"
      }
    },
    {
      "cell_type": "code",
      "source": [
        "l = [1,2.0,3.8,5]"
      ],
      "metadata": {
        "id": "zpizOAktZzhk"
      },
      "execution_count": null,
      "outputs": []
    },
    {
      "cell_type": "code",
      "source": [
        "v = np.array(l, dtype=np.int8)"
      ],
      "metadata": {
        "id": "47Ou7INHk3ki"
      },
      "execution_count": null,
      "outputs": []
    },
    {
      "cell_type": "code",
      "source": [
        "v.dtype "
      ],
      "metadata": {
        "colab": {
          "base_uri": "https://localhost:8080/"
        },
        "id": "vuJO673VlAJb",
        "outputId": "51f60da7-9c42-42f7-ef56-7e33a1eb272d"
      },
      "execution_count": null,
      "outputs": [
        {
          "output_type": "execute_result",
          "data": {
            "text/plain": [
              "dtype('int8')"
            ]
          },
          "metadata": {},
          "execution_count": 11
        }
      ]
    },
    {
      "cell_type": "code",
      "source": [
        "v"
      ],
      "metadata": {
        "colab": {
          "base_uri": "https://localhost:8080/"
        },
        "id": "ZaI3e9i-lCOc",
        "outputId": "3087a177-9e63-404f-924d-98cf558f0f68"
      },
      "execution_count": null,
      "outputs": [
        {
          "output_type": "execute_result",
          "data": {
            "text/plain": [
              "array([1, 2, 3, 5], dtype=int8)"
            ]
          },
          "metadata": {},
          "execution_count": 12
        }
      ]
    },
    {
      "cell_type": "code",
      "source": [
        "l = ['1',2.0,3.0,'4']"
      ],
      "metadata": {
        "id": "ohVoET3KlHsq"
      },
      "execution_count": null,
      "outputs": []
    },
    {
      "cell_type": "code",
      "source": [
        "v = np.array(l)"
      ],
      "metadata": {
        "id": "GLnRQblelNuR"
      },
      "execution_count": null,
      "outputs": []
    },
    {
      "cell_type": "code",
      "source": [
        "v"
      ],
      "metadata": {
        "colab": {
          "base_uri": "https://localhost:8080/"
        },
        "id": "4dXJawV2lQVH",
        "outputId": "0b89e721-128f-4e37-b4d3-84263ca7ed8b"
      },
      "execution_count": null,
      "outputs": [
        {
          "output_type": "execute_result",
          "data": {
            "text/plain": [
              "array(['1', '2.0', '3.0', '4'], dtype='<U32')"
            ]
          },
          "metadata": {},
          "execution_count": 15
        }
      ]
    },
    {
      "cell_type": "markdown",
      "source": [
        "### dim"
      ],
      "metadata": {
        "id": "EW9JLxZBWWLt"
      }
    },
    {
      "cell_type": "code",
      "source": [
        "l = [1,2,3,4]"
      ],
      "metadata": {
        "id": "QnZMipFTZEFA"
      },
      "execution_count": null,
      "outputs": []
    },
    {
      "cell_type": "code",
      "source": [
        "v = np.array(l)"
      ],
      "metadata": {
        "id": "9oahVexwlh9K"
      },
      "execution_count": null,
      "outputs": []
    },
    {
      "cell_type": "code",
      "source": [
        "v"
      ],
      "metadata": {
        "colab": {
          "base_uri": "https://localhost:8080/"
        },
        "id": "vWCeZxTolkZa",
        "outputId": "ff120515-1016-467a-8fdd-cca6ba81fd18"
      },
      "execution_count": null,
      "outputs": [
        {
          "output_type": "execute_result",
          "data": {
            "text/plain": [
              "array([1, 2, 3, 4])"
            ]
          },
          "metadata": {},
          "execution_count": 18
        }
      ]
    },
    {
      "cell_type": "code",
      "source": [
        "v.ndim"
      ],
      "metadata": {
        "colab": {
          "base_uri": "https://localhost:8080/"
        },
        "id": "HZ32PGWzlloo",
        "outputId": "8ccbf987-ac02-42a3-bf94-b4c647452bbf"
      },
      "execution_count": null,
      "outputs": [
        {
          "output_type": "execute_result",
          "data": {
            "text/plain": [
              "1"
            ]
          },
          "metadata": {},
          "execution_count": 19
        }
      ]
    },
    {
      "cell_type": "code",
      "source": [
        "v = np.array(l, ndmin=2)"
      ],
      "metadata": {
        "id": "C1P1Inq_lrxM"
      },
      "execution_count": null,
      "outputs": []
    },
    {
      "cell_type": "code",
      "source": [
        "v"
      ],
      "metadata": {
        "colab": {
          "base_uri": "https://localhost:8080/"
        },
        "id": "S-l3u5d7lxrf",
        "outputId": "73f059ad-bcbf-458c-c82e-382ddd546434"
      },
      "execution_count": null,
      "outputs": [
        {
          "output_type": "execute_result",
          "data": {
            "text/plain": [
              "array([[1, 2, 3, 4]])"
            ]
          },
          "metadata": {},
          "execution_count": 21
        }
      ]
    },
    {
      "cell_type": "code",
      "source": [
        "v.ndim"
      ],
      "metadata": {
        "colab": {
          "base_uri": "https://localhost:8080/"
        },
        "id": "_0v2ywbml1t5",
        "outputId": "db8ddd1a-8589-4390-bad1-63b4cddf616d"
      },
      "execution_count": null,
      "outputs": [
        {
          "output_type": "execute_result",
          "data": {
            "text/plain": [
              "2"
            ]
          },
          "metadata": {},
          "execution_count": 22
        }
      ]
    },
    {
      "cell_type": "code",
      "source": [
        "l = [[1,2,3],[4,5,6]]"
      ],
      "metadata": {
        "id": "7jyI-TOXl4pi"
      },
      "execution_count": null,
      "outputs": []
    },
    {
      "cell_type": "code",
      "source": [
        "v = np.array(l)"
      ],
      "metadata": {
        "id": "AD_8uDHtl-Sz"
      },
      "execution_count": null,
      "outputs": []
    },
    {
      "cell_type": "code",
      "source": [
        "v"
      ],
      "metadata": {
        "colab": {
          "base_uri": "https://localhost:8080/"
        },
        "id": "CIPs-2MSmBEH",
        "outputId": "681496e5-e78e-47a7-9b60-c72ed6cfe67b"
      },
      "execution_count": null,
      "outputs": [
        {
          "output_type": "execute_result",
          "data": {
            "text/plain": [
              "array([[1, 2, 3],\n",
              "       [4, 5, 6]])"
            ]
          },
          "metadata": {},
          "execution_count": 25
        }
      ]
    },
    {
      "cell_type": "code",
      "source": [
        "v.ndim"
      ],
      "metadata": {
        "colab": {
          "base_uri": "https://localhost:8080/"
        },
        "id": "nx0FC-3jmCiP",
        "outputId": "e480169c-6f74-4381-e6df-63185aa78004"
      },
      "execution_count": null,
      "outputs": [
        {
          "output_type": "execute_result",
          "data": {
            "text/plain": [
              "2"
            ]
          },
          "metadata": {},
          "execution_count": 26
        }
      ]
    },
    {
      "cell_type": "code",
      "source": [],
      "metadata": {
        "id": "Z-3FnJhLmER4"
      },
      "execution_count": null,
      "outputs": []
    },
    {
      "cell_type": "markdown",
      "source": [
        "## Atributos del objeto ndarray"
      ],
      "metadata": {
        "id": "lafbJEewbFI5"
      }
    },
    {
      "cell_type": "code",
      "source": [
        "l = [[[1,2],[3,4],[5,6]],[[7,8],[9,10],[11,12]]]"
      ],
      "metadata": {
        "id": "l22QHHvSbrWT"
      },
      "execution_count": null,
      "outputs": []
    },
    {
      "cell_type": "code",
      "source": [
        "l2 = np.array(l)"
      ],
      "metadata": {
        "id": "IDoah-VczDn1"
      },
      "execution_count": null,
      "outputs": []
    },
    {
      "cell_type": "code",
      "source": [
        "l2"
      ],
      "metadata": {
        "id": "wtrM6AmuzIOw",
        "outputId": "2da870f4-347a-41a3-9c07-4a292a69a609",
        "colab": {
          "base_uri": "https://localhost:8080/"
        }
      },
      "execution_count": null,
      "outputs": [
        {
          "output_type": "execute_result",
          "data": {
            "text/plain": [
              "array([[[ 1,  2],\n",
              "        [ 3,  4],\n",
              "        [ 5,  6]],\n",
              "\n",
              "       [[ 7,  8],\n",
              "        [ 9, 10],\n",
              "        [11, 12]]])"
            ]
          },
          "metadata": {},
          "execution_count": 5
        }
      ]
    },
    {
      "cell_type": "code",
      "source": [
        "l2.shape"
      ],
      "metadata": {
        "id": "kwjw99jtzL_T",
        "outputId": "72d80041-a4df-4233-d85e-5e0f1557bc52",
        "colab": {
          "base_uri": "https://localhost:8080/"
        }
      },
      "execution_count": null,
      "outputs": [
        {
          "output_type": "execute_result",
          "data": {
            "text/plain": [
              "(2, 3, 2)"
            ]
          },
          "metadata": {},
          "execution_count": 6
        }
      ]
    },
    {
      "cell_type": "code",
      "source": [
        "a1 = np.array([[1],[2],[3],[4]])"
      ],
      "metadata": {
        "id": "2lelGCH5zX7k"
      },
      "execution_count": null,
      "outputs": []
    },
    {
      "cell_type": "code",
      "source": [
        "a1.shape"
      ],
      "metadata": {
        "id": "33qpudce37UF",
        "outputId": "845b122e-bb10-4c16-9d72-0c53bc2114d5",
        "colab": {
          "base_uri": "https://localhost:8080/"
        }
      },
      "execution_count": null,
      "outputs": [
        {
          "output_type": "execute_result",
          "data": {
            "text/plain": [
              "(4, 1)"
            ]
          },
          "metadata": {},
          "execution_count": 20
        }
      ]
    },
    {
      "cell_type": "code",
      "source": [
        "a1[1:3,0]"
      ],
      "metadata": {
        "id": "t-5Lznos4m31",
        "outputId": "7d731dac-d949-4b12-cee8-32cb307456b5",
        "colab": {
          "base_uri": "https://localhost:8080/"
        }
      },
      "execution_count": null,
      "outputs": [
        {
          "output_type": "execute_result",
          "data": {
            "text/plain": [
              "array([2, 3])"
            ]
          },
          "metadata": {},
          "execution_count": 23
        }
      ]
    },
    {
      "cell_type": "code",
      "source": [
        "t1 = (1,2,3)"
      ],
      "metadata": {
        "id": "XLwZZ6hP4NvE"
      },
      "execution_count": null,
      "outputs": []
    },
    {
      "cell_type": "code",
      "source": [
        "len(t1)"
      ],
      "metadata": {
        "id": "ZCl6IZyy4QYg",
        "outputId": "d84d384f-5d92-49d1-a3ef-e19001f73d6c",
        "colab": {
          "base_uri": "https://localhost:8080/"
        }
      },
      "execution_count": null,
      "outputs": [
        {
          "output_type": "execute_result",
          "data": {
            "text/plain": [
              "3"
            ]
          },
          "metadata": {},
          "execution_count": 24
        }
      ]
    },
    {
      "cell_type": "code",
      "source": [
        "t1[1]"
      ],
      "metadata": {
        "id": "Uj_4pbgU5rys",
        "outputId": "fd27c6d6-0173-4f97-f1fd-23f67e0570cc",
        "colab": {
          "base_uri": "https://localhost:8080/"
        }
      },
      "execution_count": null,
      "outputs": [
        {
          "output_type": "execute_result",
          "data": {
            "text/plain": [
              "2"
            ]
          },
          "metadata": {},
          "execution_count": 25
        }
      ]
    },
    {
      "cell_type": "code",
      "source": [
        "l2"
      ],
      "metadata": {
        "id": "dcUnP2545rqt",
        "outputId": "16359d22-a111-4a8f-8135-41cf6ea3f162",
        "colab": {
          "base_uri": "https://localhost:8080/"
        }
      },
      "execution_count": null,
      "outputs": [
        {
          "output_type": "execute_result",
          "data": {
            "text/plain": [
              "array([[[ 1,  2],\n",
              "        [ 3,  4],\n",
              "        [ 5,  6]],\n",
              "\n",
              "       [[ 7,  8],\n",
              "        [ 9, 10],\n",
              "        [11, 12]]])"
            ]
          },
          "metadata": {},
          "execution_count": 26
        }
      ]
    },
    {
      "cell_type": "code",
      "source": [
        "l2.shape"
      ],
      "metadata": {
        "id": "SvK7Iwok6Cyc",
        "outputId": "42d5803f-15cb-4cfc-f1c9-868ff42f14de",
        "colab": {
          "base_uri": "https://localhost:8080/"
        }
      },
      "execution_count": null,
      "outputs": [
        {
          "output_type": "execute_result",
          "data": {
            "text/plain": [
              "(2, 3, 2)"
            ]
          },
          "metadata": {},
          "execution_count": 27
        }
      ]
    },
    {
      "cell_type": "code",
      "source": [
        "l2[0,:,0]"
      ],
      "metadata": {
        "id": "ukVLh-vR8C-B",
        "outputId": "4df93884-d386-4908-e31d-b4ab60e9c963",
        "colab": {
          "base_uri": "https://localhost:8080/"
        }
      },
      "execution_count": null,
      "outputs": [
        {
          "output_type": "execute_result",
          "data": {
            "text/plain": [
              "array([1, 3, 5])"
            ]
          },
          "metadata": {},
          "execution_count": 34
        }
      ]
    },
    {
      "cell_type": "code",
      "source": [
        "for i in range(l2.shape[0]):\n",
        "    for j in range(l2.shape[1]):\n",
        "        for r in range(l2.shape[2]):\n",
        "            print(l2[i,j,r])"
      ],
      "metadata": {
        "id": "XqrE2ksi52aw",
        "outputId": "49965b40-c642-46b4-b308-182ff21fa19a",
        "colab": {
          "base_uri": "https://localhost:8080/"
        }
      },
      "execution_count": null,
      "outputs": [
        {
          "output_type": "stream",
          "name": "stdout",
          "text": [
            "1\n",
            "2\n",
            "3\n",
            "4\n",
            "5\n",
            "6\n",
            "7\n",
            "8\n",
            "9\n",
            "10\n",
            "11\n",
            "12\n"
          ]
        }
      ]
    },
    {
      "cell_type": "code",
      "source": [],
      "metadata": {
        "id": "iBpUv7LU52YL"
      },
      "execution_count": null,
      "outputs": []
    },
    {
      "cell_type": "code",
      "source": [],
      "metadata": {
        "id": "3RIbHagx52V7"
      },
      "execution_count": null,
      "outputs": []
    },
    {
      "cell_type": "code",
      "source": [],
      "metadata": {
        "id": "F4YrClqp5rk2"
      },
      "execution_count": null,
      "outputs": []
    },
    {
      "cell_type": "code",
      "source": [
        "v = np.array(l)"
      ],
      "metadata": {
        "id": "pzgNxf_omYKp"
      },
      "execution_count": null,
      "outputs": []
    },
    {
      "cell_type": "code",
      "source": [
        "v"
      ],
      "metadata": {
        "colab": {
          "base_uri": "https://localhost:8080/"
        },
        "id": "RXchQ_5Lmawl",
        "outputId": "a0bc66b4-9dec-493c-f163-b0e221212c58"
      },
      "execution_count": null,
      "outputs": [
        {
          "output_type": "execute_result",
          "data": {
            "text/plain": [
              "array([[[ 1,  2],\n",
              "        [ 3,  4],\n",
              "        [ 5,  6]],\n",
              "\n",
              "       [[ 7,  8],\n",
              "        [ 9, 10],\n",
              "        [11, 12]]])"
            ]
          },
          "metadata": {},
          "execution_count": 29
        }
      ]
    },
    {
      "cell_type": "code",
      "source": [
        "v.shape"
      ],
      "metadata": {
        "colab": {
          "base_uri": "https://localhost:8080/"
        },
        "id": "qtgFGBQVmg2I",
        "outputId": "11d3f867-4170-4e3d-dac6-2efa32518bfb"
      },
      "execution_count": null,
      "outputs": [
        {
          "output_type": "execute_result",
          "data": {
            "text/plain": [
              "(2, 3, 2)"
            ]
          },
          "metadata": {},
          "execution_count": 30
        }
      ]
    },
    {
      "cell_type": "code",
      "source": [
        "v.shape = (3,2,2)"
      ],
      "metadata": {
        "id": "huWaDR1qmmCC"
      },
      "execution_count": null,
      "outputs": []
    },
    {
      "cell_type": "code",
      "source": [
        "v"
      ],
      "metadata": {
        "colab": {
          "base_uri": "https://localhost:8080/"
        },
        "id": "N4iyGSWAmu70",
        "outputId": "b6e0f6fd-0b7a-4962-e512-813b26d08116"
      },
      "execution_count": null,
      "outputs": [
        {
          "output_type": "execute_result",
          "data": {
            "text/plain": [
              "array([[[ 1,  2],\n",
              "        [ 3,  4]],\n",
              "\n",
              "       [[ 5,  6],\n",
              "        [ 7,  8]],\n",
              "\n",
              "       [[ 9, 10],\n",
              "        [11, 12]]])"
            ]
          },
          "metadata": {},
          "execution_count": 32
        }
      ]
    },
    {
      "cell_type": "code",
      "source": [
        "v.ndim"
      ],
      "metadata": {
        "colab": {
          "base_uri": "https://localhost:8080/"
        },
        "id": "Vffr8jmAm2Zm",
        "outputId": "7d6b6976-5d5b-46d6-f63e-e23c5676777b"
      },
      "execution_count": null,
      "outputs": [
        {
          "output_type": "execute_result",
          "data": {
            "text/plain": [
              "3"
            ]
          },
          "metadata": {},
          "execution_count": 33
        }
      ]
    },
    {
      "cell_type": "code",
      "source": [
        "v.dtype"
      ],
      "metadata": {
        "colab": {
          "base_uri": "https://localhost:8080/"
        },
        "id": "qhAckTuLm3my",
        "outputId": "33431b90-37b6-449d-e6a0-8e2b49e9ebfd"
      },
      "execution_count": null,
      "outputs": [
        {
          "output_type": "execute_result",
          "data": {
            "text/plain": [
              "dtype('int64')"
            ]
          },
          "metadata": {},
          "execution_count": 35
        }
      ]
    },
    {
      "cell_type": "code",
      "source": [
        "v.itemsize"
      ],
      "metadata": {
        "colab": {
          "base_uri": "https://localhost:8080/"
        },
        "id": "RzNOrz8um7R-",
        "outputId": "5314fbc2-9d3d-483c-93d1-bb6fcddc301d"
      },
      "execution_count": null,
      "outputs": [
        {
          "output_type": "execute_result",
          "data": {
            "text/plain": [
              "8"
            ]
          },
          "metadata": {},
          "execution_count": 37
        }
      ]
    },
    {
      "cell_type": "markdown",
      "source": [
        "**tarea** Investigar todos los atributos definidos en la clase ndarray [2](https://numpy.org/doc/stable/reference/generated/numpy.ndarray.html)"
      ],
      "metadata": {
        "id": "MnfQb00oY7em"
      }
    },
    {
      "cell_type": "markdown",
      "source": [
        "## Otras formas de instanciar objetos ndarray"
      ],
      "metadata": {
        "id": "aM3-zyo8bPj6"
      }
    },
    {
      "cell_type": "markdown",
      "source": [
        "```python\n",
        "np.empty(shape, dtype)\n",
        "```\n",
        "\n",
        "Crear un objeto ndarray de elementos vacios, con tamaño _shape_ y tipo _dtype_. _shape_ puede ser una tupla vacía si es un escalar (tensor con 0 dim), un entero si es un arreglo unidimensional (tesnor de 1 dim) o una tupla si es un arreglo multidimensional (tensor con dim>1).\n",
        "\n",
        "**Nota**: Los elementos del objeto ndarray son asignados aleatoriamente, ya que estos no estan siendo inicializados."
      ],
      "metadata": {
        "id": "y-46m0iaX35A"
      }
    },
    {
      "cell_type": "code",
      "source": [
        "v = np.empty(shape=(),dtype=np.int8)"
      ],
      "metadata": {
        "id": "S_rM5E94YuPA"
      },
      "execution_count": null,
      "outputs": []
    },
    {
      "cell_type": "code",
      "source": [
        "v"
      ],
      "metadata": {
        "colab": {
          "base_uri": "https://localhost:8080/"
        },
        "id": "133YuIYbni6R",
        "outputId": "621a7746-401a-4183-b38d-ad4b94ae3d7a"
      },
      "execution_count": null,
      "outputs": [
        {
          "output_type": "execute_result",
          "data": {
            "text/plain": [
              "array(1, dtype=int8)"
            ]
          },
          "metadata": {},
          "execution_count": 39
        }
      ]
    },
    {
      "cell_type": "code",
      "source": [
        "v = np.empty(shape=(4),dtype=np.int8)"
      ],
      "metadata": {
        "id": "hEQjHVuUnrg5"
      },
      "execution_count": null,
      "outputs": []
    },
    {
      "cell_type": "code",
      "source": [
        "v"
      ],
      "metadata": {
        "colab": {
          "base_uri": "https://localhost:8080/"
        },
        "id": "yoLXJZCQnt8H",
        "outputId": "a4707869-fb61-4d03-9c9c-fa0bd5101512"
      },
      "execution_count": null,
      "outputs": [
        {
          "output_type": "execute_result",
          "data": {
            "text/plain": [
              "array([ -96, -119,   56,    2], dtype=int8)"
            ]
          },
          "metadata": {},
          "execution_count": 43
        }
      ]
    },
    {
      "cell_type": "code",
      "source": [
        "v = np.empty(shape=(2,4,3,2),dtype=np.int8)"
      ],
      "metadata": {
        "id": "3iAfgAU0nzN0"
      },
      "execution_count": null,
      "outputs": []
    },
    {
      "cell_type": "code",
      "source": [
        "v"
      ],
      "metadata": {
        "colab": {
          "base_uri": "https://localhost:8080/"
        },
        "id": "HYveZ0RKn4Pk",
        "outputId": "e0ce25cb-b8f0-4a37-9b5f-5be4cb99f15d"
      },
      "execution_count": null,
      "outputs": [
        {
          "output_type": "execute_result",
          "data": {
            "text/plain": [
              "array([[[[ 80, 115],\n",
              "         [103,   3],\n",
              "         [  0,   0]],\n",
              "\n",
              "        [[  0,   0],\n",
              "         [  0,   0],\n",
              "         [  0,   0]],\n",
              "\n",
              "        [[  0,   0],\n",
              "         [  0,   0],\n",
              "         [  0,   0]],\n",
              "\n",
              "        [[  0,   0],\n",
              "         [  0,   0],\n",
              "         [  0,   0]]],\n",
              "\n",
              "\n",
              "       [[[  0,   0],\n",
              "         [  0,   0],\n",
              "         [  0,   0]],\n",
              "\n",
              "        [[  0,   0],\n",
              "         [  0,   0],\n",
              "         [  0,   0]],\n",
              "\n",
              "        [[  0,   0],\n",
              "         [  0,   0],\n",
              "         [  0,   0]],\n",
              "\n",
              "        [[  0,   0],\n",
              "         [  0,   0],\n",
              "         [  0,   0]]]], dtype=int8)"
            ]
          },
          "metadata": {},
          "execution_count": 46
        }
      ]
    },
    {
      "cell_type": "markdown",
      "source": [
        "```python\n",
        "np.zeros(shape, dtype)\n",
        "```\n",
        "Crear un objeto ndarray con todos sus elementos iguales a 0, por defecto dtype=np.float64"
      ],
      "metadata": {
        "id": "9mRq_SUBZSbQ"
      }
    },
    {
      "cell_type": "code",
      "source": [
        "v = np.zeros((),dtype=np.uint8)"
      ],
      "metadata": {
        "id": "A8n2dblwaG1w"
      },
      "execution_count": null,
      "outputs": []
    },
    {
      "cell_type": "code",
      "source": [
        "v"
      ],
      "metadata": {
        "colab": {
          "base_uri": "https://localhost:8080/"
        },
        "id": "6jMZay_9oPlG",
        "outputId": "c8930a78-565e-43c5-ce77-b6860e7588b7"
      },
      "execution_count": null,
      "outputs": [
        {
          "output_type": "execute_result",
          "data": {
            "text/plain": [
              "array(0, dtype=uint8)"
            ]
          },
          "metadata": {},
          "execution_count": 40
        }
      ]
    },
    {
      "cell_type": "code",
      "source": [
        "v = np.zeros(4,dtype=np.uint8)"
      ],
      "metadata": {
        "id": "yMcA8UhLoXnd"
      },
      "execution_count": null,
      "outputs": []
    },
    {
      "cell_type": "code",
      "source": [
        "v"
      ],
      "metadata": {
        "colab": {
          "base_uri": "https://localhost:8080/"
        },
        "id": "RuA3HEMWob3x",
        "outputId": "c4aa134a-2d47-4536-b95c-52c6839b9ede"
      },
      "execution_count": null,
      "outputs": [
        {
          "output_type": "execute_result",
          "data": {
            "text/plain": [
              "array([0, 0, 0, 0], dtype=uint8)"
            ]
          },
          "metadata": {},
          "execution_count": 42
        }
      ]
    },
    {
      "cell_type": "code",
      "source": [
        "np.zeros((2,2,2))"
      ],
      "metadata": {
        "colab": {
          "base_uri": "https://localhost:8080/"
        },
        "id": "LMuDylavouD1",
        "outputId": "c27f4f3b-1f97-4e79-c40b-66abc81e4212"
      },
      "execution_count": null,
      "outputs": [
        {
          "output_type": "execute_result",
          "data": {
            "text/plain": [
              "array([[[0., 0.],\n",
              "        [0., 0.]],\n",
              "\n",
              "       [[0., 0.],\n",
              "        [0., 0.]]])"
            ]
          },
          "metadata": {},
          "execution_count": 43
        }
      ]
    },
    {
      "cell_type": "markdown",
      "source": [
        "```python\n",
        "np.ones(shape, dtype)\n",
        "```\n",
        "Crear un objeto ndarray con todos sus elementos iguales a 1, por defecto dtype=np.float64"
      ],
      "metadata": {
        "id": "JNDKATWGaY1A"
      }
    },
    {
      "cell_type": "code",
      "source": [
        "v = np.ones((), np.uint8)"
      ],
      "metadata": {
        "id": "v-QXYazwacXw"
      },
      "execution_count": null,
      "outputs": []
    },
    {
      "cell_type": "code",
      "source": [
        "v"
      ],
      "metadata": {
        "colab": {
          "base_uri": "https://localhost:8080/"
        },
        "id": "_EbhF_QFooKr",
        "outputId": "804a8028-dee0-4159-a1ee-ae6005b6ba65"
      },
      "execution_count": null,
      "outputs": [
        {
          "output_type": "execute_result",
          "data": {
            "text/plain": [
              "array(1, dtype=uint8)"
            ]
          },
          "metadata": {},
          "execution_count": 45
        }
      ]
    },
    {
      "cell_type": "code",
      "source": [
        "m1 = np.ones((2,8))"
      ],
      "metadata": {
        "id": "9BV3xnev-qUi"
      },
      "execution_count": null,
      "outputs": []
    },
    {
      "cell_type": "code",
      "source": [
        "m1"
      ],
      "metadata": {
        "id": "4dLCEzOH-xoP",
        "outputId": "fb4c9427-b95d-4d9e-e5e3-1d3cc09a6b6c",
        "colab": {
          "base_uri": "https://localhost:8080/"
        }
      },
      "execution_count": null,
      "outputs": [
        {
          "output_type": "execute_result",
          "data": {
            "text/plain": [
              "array([[1., 1., 1., 1., 1., 1., 1., 1.],\n",
              "       [1., 1., 1., 1., 1., 1., 1., 1.]])"
            ]
          },
          "metadata": {},
          "execution_count": 47
        }
      ]
    },
    {
      "cell_type": "markdown",
      "source": [
        "```python\n",
        "np.asarray(object, dtype)\n",
        "```\n",
        "Crear un objeto ndarray a partir de un objeto iterable (igual a np.array() pero con menos parámetros). Solo tiene los parámetros object, dtype, order"
      ],
      "metadata": {
        "id": "xRz341wca5ZA"
      }
    },
    {
      "cell_type": "code",
      "source": [
        "l = [1,2,3,4]"
      ],
      "metadata": {
        "id": "Oxwy6Tseb6nS"
      },
      "execution_count": null,
      "outputs": []
    },
    {
      "cell_type": "code",
      "source": [
        "v = np.asarray(l)"
      ],
      "metadata": {
        "id": "1vIrT84zpAEX"
      },
      "execution_count": null,
      "outputs": []
    },
    {
      "cell_type": "code",
      "source": [
        "l1 = range(0,3)\n",
        "for i in l1:\n",
        "    print(i)"
      ],
      "metadata": {
        "id": "-s4vsEF7--bg",
        "outputId": "a094265c-463b-4438-eec6-f925c586ede0",
        "colab": {
          "base_uri": "https://localhost:8080/"
        }
      },
      "execution_count": null,
      "outputs": [
        {
          "output_type": "stream",
          "name": "stdout",
          "text": [
            "0\n",
            "1\n",
            "2\n"
          ]
        }
      ]
    },
    {
      "cell_type": "code",
      "source": [
        "np.asarray(range(0,3))"
      ],
      "metadata": {
        "id": "3i1J9fp6_L6j",
        "outputId": "17418e17-6630-4ef4-9643-1f7b11f20430",
        "colab": {
          "base_uri": "https://localhost:8080/"
        }
      },
      "execution_count": null,
      "outputs": [
        {
          "output_type": "execute_result",
          "data": {
            "text/plain": [
              "array([0, 1, 2])"
            ]
          },
          "metadata": {},
          "execution_count": 51
        }
      ]
    },
    {
      "cell_type": "code",
      "source": [
        "]v"
      ],
      "metadata": {
        "colab": {
          "base_uri": "https://localhost:8080/"
        },
        "id": "psjJpcEwpDVk",
        "outputId": "1c9ace09-c1c1-40bb-afb9-cfdd980ffc28"
      },
      "execution_count": null,
      "outputs": [
        {
          "output_type": "execute_result",
          "data": {
            "text/plain": [
              "array([1, 2, 3, 4])"
            ]
          },
          "metadata": {},
          "execution_count": 56
        }
      ]
    },
    {
      "cell_type": "markdown",
      "source": [
        "crear un objeto ndarray a partir de rangos númericos"
      ],
      "metadata": {
        "id": "o8u9RiQ3cq6x"
      }
    },
    {
      "cell_type": "markdown",
      "source": [
        "```python\n",
        "np.arange(start, stop, step, dtype)\n",
        "```\n",
        "1. start: Inicio del intervalo, por defecto inicia en 0.\n",
        "2. stop: Final del intervalo (Este valor no se incluye).\n",
        "3. step: espacio entre los valores, por defecto es 1.\n",
        "4. dtype: Tipo de dato, se infiere a partir de los valores del intervalo.\n",
        "\n",
        "<img src=\"https://drive.google.com/uc?export=view&id=1U6hhdoZ_aWveFUIa-ljxc6lfAmQOf-9A\" width=\"80%\" height=\"40%\"/>\n",
        "\n",
        "\n",
        "<img src=\"https://drive.google.com/uc?export=view&id=1e5KZKzsxZnWzCZNf82nuy7bTYrM5Y4wf\" width=\"80%\" height=\"40%\"/>"
      ],
      "metadata": {
        "id": "J9WKqlKQec56"
      }
    },
    {
      "cell_type": "code",
      "source": [
        "v = np.arange(10)\n",
        "v"
      ],
      "metadata": {
        "id": "AMYVtXeedVDQ",
        "colab": {
          "base_uri": "https://localhost:8080/"
        },
        "outputId": "a5de5d86-2286-4fb7-a16b-740cc8b33362"
      },
      "execution_count": null,
      "outputs": [
        {
          "output_type": "execute_result",
          "data": {
            "text/plain": [
              "array([0, 1, 2, 3, 4, 5, 6, 7, 8, 9])"
            ]
          },
          "metadata": {},
          "execution_count": 57
        }
      ]
    },
    {
      "cell_type": "code",
      "source": [
        "v = np.arange(1,10,2)\n",
        "v"
      ],
      "metadata": {
        "colab": {
          "base_uri": "https://localhost:8080/"
        },
        "id": "mqwsbAdmp5n5",
        "outputId": "29b61b9f-b15f-4a29-e11a-45ae720c6209"
      },
      "execution_count": null,
      "outputs": [
        {
          "output_type": "execute_result",
          "data": {
            "text/plain": [
              "array([1, 3, 5, 7, 9])"
            ]
          },
          "metadata": {},
          "execution_count": 59
        }
      ]
    },
    {
      "cell_type": "code",
      "source": [
        "v = np.arange(0,12,1.5)\n",
        "v"
      ],
      "metadata": {
        "colab": {
          "base_uri": "https://localhost:8080/"
        },
        "id": "YbGegrf0qCqo",
        "outputId": "04a6f37b-3a79-4019-a96c-299dc20d5d84"
      },
      "execution_count": null,
      "outputs": [
        {
          "output_type": "execute_result",
          "data": {
            "text/plain": [
              "array([ 0. ,  1.5,  3. ,  4.5,  6. ,  7.5,  9. , 10.5])"
            ]
          },
          "metadata": {},
          "execution_count": 61
        }
      ]
    },
    {
      "cell_type": "markdown",
      "source": [
        "```python\n",
        "np.linspace(start, stop, num, endpoint, retstep, dtype)\n",
        "```\n",
        "\n",
        "1. start: Inicio del intervalo.\n",
        "2. stop: Final del intervalo.\n",
        "3. num: número de elementos en el intervalo, por defecto=5.\n",
        "4. endpoint: Incluir o no el valor del stop en el intervalo, por defecto = True.\n",
        "5. retstep: retorna una tupla con el objeto ndarray y un ecalar indicando el valor del espaciamiento entre los elementos, por defecto = False.\n",
        "6. dtype: Tipo de datos, se infiere a partir de los valores del intervalo.\n",
        "\n",
        "<img src=\"https://drive.google.com/uc?export=view&id=1Xob66ltWce-EX6rgCRhwAhV6UvywlFUY\" width=\"80%\" height=\"40%\"/>"
      ],
      "metadata": {
        "id": "1N8Cm2dvfQcj"
      }
    },
    {
      "cell_type": "code",
      "source": [
        "v = np.linspace(2,10)"
      ],
      "metadata": {
        "id": "CuN62ecWddOY"
      },
      "execution_count": null,
      "outputs": []
    },
    {
      "cell_type": "code",
      "source": [
        "v"
      ],
      "metadata": {
        "id": "ksUF9Ho1AXee",
        "outputId": "0fc22fb2-1356-445a-f507-6f7b458862f7",
        "colab": {
          "base_uri": "https://localhost:8080/"
        }
      },
      "execution_count": null,
      "outputs": [
        {
          "output_type": "execute_result",
          "data": {
            "text/plain": [
              "array([ 2.        ,  2.16326531,  2.32653061,  2.48979592,  2.65306122,\n",
              "        2.81632653,  2.97959184,  3.14285714,  3.30612245,  3.46938776,\n",
              "        3.63265306,  3.79591837,  3.95918367,  4.12244898,  4.28571429,\n",
              "        4.44897959,  4.6122449 ,  4.7755102 ,  4.93877551,  5.10204082,\n",
              "        5.26530612,  5.42857143,  5.59183673,  5.75510204,  5.91836735,\n",
              "        6.08163265,  6.24489796,  6.40816327,  6.57142857,  6.73469388,\n",
              "        6.89795918,  7.06122449,  7.2244898 ,  7.3877551 ,  7.55102041,\n",
              "        7.71428571,  7.87755102,  8.04081633,  8.20408163,  8.36734694,\n",
              "        8.53061224,  8.69387755,  8.85714286,  9.02040816,  9.18367347,\n",
              "        9.34693878,  9.51020408,  9.67346939,  9.83673469, 10.        ])"
            ]
          },
          "metadata": {},
          "execution_count": 53
        }
      ]
    },
    {
      "cell_type": "code",
      "source": [
        "v.shape"
      ],
      "metadata": {
        "colab": {
          "base_uri": "https://localhost:8080/"
        },
        "id": "W_KNt5WCqvHQ",
        "outputId": "f17ae791-77fe-40ff-bac4-5e0873319130"
      },
      "execution_count": null,
      "outputs": [
        {
          "output_type": "execute_result",
          "data": {
            "text/plain": [
              "(50,)"
            ]
          },
          "metadata": {},
          "execution_count": 54
        }
      ]
    },
    {
      "cell_type": "code",
      "source": [
        "v = np.linspace(1.5,5,10)\n",
        "v"
      ],
      "metadata": {
        "colab": {
          "base_uri": "https://localhost:8080/"
        },
        "id": "P6j6qY_qq2J2",
        "outputId": "014b18ef-ddca-46a4-9ec9-135441b9ab2a"
      },
      "execution_count": null,
      "outputs": [
        {
          "output_type": "execute_result",
          "data": {
            "text/plain": [
              "array([1.5       , 1.88888889, 2.27777778, 2.66666667, 3.05555556,\n",
              "       3.44444444, 3.83333333, 4.22222222, 4.61111111, 5.        ])"
            ]
          },
          "metadata": {},
          "execution_count": 55
        }
      ]
    },
    {
      "cell_type": "code",
      "source": [
        "v.shape"
      ],
      "metadata": {
        "id": "Q7ex26P3AoF5",
        "outputId": "13c00f36-4eed-4bab-eb8a-e54a4eba5e17",
        "colab": {
          "base_uri": "https://localhost:8080/"
        }
      },
      "execution_count": null,
      "outputs": [
        {
          "output_type": "execute_result",
          "data": {
            "text/plain": [
              "(10,)"
            ]
          },
          "metadata": {},
          "execution_count": 56
        }
      ]
    },
    {
      "cell_type": "code",
      "source": [
        "v = np.linspace(1.5,5,10,endpoint=False,retstep=True)\n",
        "v"
      ],
      "metadata": {
        "colab": {
          "base_uri": "https://localhost:8080/"
        },
        "id": "F4Es01ZHrBzk",
        "outputId": "30582bec-e9c1-4ae3-953a-91ed371c8cc6"
      },
      "execution_count": null,
      "outputs": [
        {
          "output_type": "execute_result",
          "data": {
            "text/plain": [
              "(array([1.5 , 1.85, 2.2 , 2.55, 2.9 , 3.25, 3.6 , 3.95, 4.3 , 4.65]), 0.35)"
            ]
          },
          "metadata": {},
          "execution_count": 57
        }
      ]
    },
    {
      "cell_type": "markdown",
      "source": [
        "## Métodos del objeto ndarray"
      ],
      "metadata": {
        "id": "lP_BCI_Q0WuG"
      }
    },
    {
      "cell_type": "code",
      "source": [
        "a = np.random.randint(0,10,(2,4,3))\n",
        "a.shape"
      ],
      "metadata": {
        "id": "MsuyHSkh0Y6C",
        "colab": {
          "base_uri": "https://localhost:8080/"
        },
        "outputId": "73128871-c392-48a9-e869-7b47bf5d36e9"
      },
      "execution_count": null,
      "outputs": [
        {
          "output_type": "execute_result",
          "data": {
            "text/plain": [
              "(2, 4, 3)"
            ]
          },
          "metadata": {},
          "execution_count": 75
        }
      ]
    },
    {
      "cell_type": "code",
      "source": [
        "a"
      ],
      "metadata": {
        "colab": {
          "base_uri": "https://localhost:8080/"
        },
        "id": "KKuAQ9rqsF9Z",
        "outputId": "88ce489f-d262-4e80-907d-291e07f56de8"
      },
      "execution_count": null,
      "outputs": [
        {
          "output_type": "execute_result",
          "data": {
            "text/plain": [
              "array([[[4, 1, 5],\n",
              "        [6, 9, 3],\n",
              "        [3, 8, 2],\n",
              "        [0, 6, 0]],\n",
              "\n",
              "       [[7, 5, 7],\n",
              "        [7, 9, 1],\n",
              "        [9, 5, 7],\n",
              "        [3, 5, 4]]])"
            ]
          },
          "metadata": {},
          "execution_count": 76
        }
      ]
    },
    {
      "cell_type": "code",
      "source": [
        "b = a.reshape((24,))"
      ],
      "metadata": {
        "id": "H3JwnW8XsNJ4"
      },
      "execution_count": null,
      "outputs": []
    },
    {
      "cell_type": "code",
      "source": [
        "b.shape"
      ],
      "metadata": {
        "colab": {
          "base_uri": "https://localhost:8080/"
        },
        "id": "k62AhVBHsW0B",
        "outputId": "965e1b41-74fa-4738-c2ec-e181f1007e29"
      },
      "execution_count": null,
      "outputs": [
        {
          "output_type": "execute_result",
          "data": {
            "text/plain": [
              "(24,)"
            ]
          },
          "metadata": {},
          "execution_count": 83
        }
      ]
    },
    {
      "cell_type": "code",
      "source": [
        "c = a.flatten()\n",
        "c.shape"
      ],
      "metadata": {
        "colab": {
          "base_uri": "https://localhost:8080/"
        },
        "id": "2Wi0spfwskTX",
        "outputId": "90d52248-4e49-4e79-cb28-cc02495b349e"
      },
      "execution_count": null,
      "outputs": [
        {
          "output_type": "execute_result",
          "data": {
            "text/plain": [
              "(24,)"
            ]
          },
          "metadata": {},
          "execution_count": 84
        }
      ]
    },
    {
      "cell_type": "code",
      "source": [
        "c"
      ],
      "metadata": {
        "colab": {
          "base_uri": "https://localhost:8080/"
        },
        "id": "V3JKkb1gsxRN",
        "outputId": "1e8f646c-6185-4af6-c1ab-06f8070cbfc2"
      },
      "execution_count": null,
      "outputs": [
        {
          "output_type": "execute_result",
          "data": {
            "text/plain": [
              "array([3, 9, 2, 1, 1, 1, 9, 8, 3, 9, 4, 1, 8, 6, 0, 9, 2, 3, 8, 3, 8, 1,\n",
              "       8, 0])"
            ]
          },
          "metadata": {},
          "execution_count": 75
        }
      ]
    },
    {
      "cell_type": "code",
      "source": [
        "d = a.ravel()"
      ],
      "metadata": {
        "id": "qW99fAcDszUp"
      },
      "execution_count": null,
      "outputs": []
    },
    {
      "cell_type": "code",
      "source": [
        "d"
      ],
      "metadata": {
        "colab": {
          "base_uri": "https://localhost:8080/"
        },
        "id": "aUniUvGFs1a-",
        "outputId": "18a85f82-c256-49c9-c954-2e10ae1deba8"
      },
      "execution_count": null,
      "outputs": [
        {
          "output_type": "execute_result",
          "data": {
            "text/plain": [
              "array([3, 9, 2, 1, 1, 1, 9, 8, 3, 9, 4, 1, 8, 6, 0, 9, 2, 3, 8, 3, 8, 1,\n",
              "       8, 0])"
            ]
          },
          "metadata": {},
          "execution_count": 77
        }
      ]
    },
    {
      "cell_type": "markdown",
      "source": [
        "**tarea** Investigar todos los métods definidos en la clase ndarray [2](https://numpy.org/doc/stable/reference/generated/numpy.ndarray.html)"
      ],
      "metadata": {
        "id": "wxJCqtcKZM9Z"
      }
    },
    {
      "cell_type": "markdown",
      "source": [
        "## Indexaciòn\n",
        "El contenido de un objeto ndarray puede ser accedido y modificado a través de la indexación.\n",
        "\n",
        "Numpy sigue una indexación que inicia desde 0\n",
        "\n",
        "**Nota**: Toda indexación devuelve como resultado un objeto ndarray, con los elementos que se extrajeron del objeto ndarray original\n",
        "\n",
        "<img src=\"https://drive.google.com/uc?export=view&id=1vbqzwP35vghGYEF7i_KwK4DpRpFUb9FG\" width=\"80%\" height=\"40%\"/>"
      ],
      "metadata": {
        "id": "x-9WMsMwbhXr"
      }
    },
    {
      "cell_type": "code",
      "source": [
        "v = np.arange(10,20)"
      ],
      "metadata": {
        "id": "YrTqVxsAbsqk"
      },
      "execution_count": null,
      "outputs": []
    },
    {
      "cell_type": "code",
      "source": [
        "v"
      ],
      "metadata": {
        "colab": {
          "base_uri": "https://localhost:8080/"
        },
        "id": "Bog_PDmJvFtl",
        "outputId": "737350b2-30da-44cd-9b21-fdadddcabce7"
      },
      "execution_count": null,
      "outputs": [
        {
          "output_type": "execute_result",
          "data": {
            "text/plain": [
              "array([10, 11, 12, 13, 14, 15, 16, 17, 18, 19])"
            ]
          },
          "metadata": {},
          "execution_count": 87
        }
      ]
    },
    {
      "cell_type": "markdown",
      "source": [
        "indexación de solo un elemento"
      ],
      "metadata": {
        "id": "qMwEu2nOieih"
      }
    },
    {
      "cell_type": "code",
      "source": [
        "v[0],v[4]"
      ],
      "metadata": {
        "id": "Dw8WQITWiEGw",
        "colab": {
          "base_uri": "https://localhost:8080/"
        },
        "outputId": "0fb0324e-baa9-4971-89c1-b95350a48a34"
      },
      "execution_count": null,
      "outputs": [
        {
          "output_type": "execute_result",
          "data": {
            "text/plain": [
              "(10, 14)"
            ]
          },
          "metadata": {},
          "execution_count": 81
        }
      ]
    },
    {
      "cell_type": "markdown",
      "source": [
        "indexación de elementos personalizados"
      ],
      "metadata": {
        "id": "PP987h8Xiukx"
      }
    },
    {
      "cell_type": "code",
      "source": [
        "v[[0,4,9]]"
      ],
      "metadata": {
        "id": "3fImqWu8iTG5",
        "colab": {
          "base_uri": "https://localhost:8080/"
        },
        "outputId": "be5d5949-1d91-457e-b384-0bd3f57106e4"
      },
      "execution_count": null,
      "outputs": [
        {
          "output_type": "execute_result",
          "data": {
            "text/plain": [
              "array([10, 14, 19])"
            ]
          },
          "metadata": {},
          "execution_count": 82
        }
      ]
    },
    {
      "cell_type": "code",
      "source": [
        "idx = np.array([0,4,9])"
      ],
      "metadata": {
        "id": "1B1UYeJgvrrG"
      },
      "execution_count": null,
      "outputs": []
    },
    {
      "cell_type": "code",
      "source": [
        "v[idx]"
      ],
      "metadata": {
        "colab": {
          "base_uri": "https://localhost:8080/"
        },
        "id": "_rmhtH3Cvx5u",
        "outputId": "9fb0e059-3dbd-4060-ebaf-f1b45e61e9ee"
      },
      "execution_count": null,
      "outputs": [
        {
          "output_type": "execute_result",
          "data": {
            "text/plain": [
              "array([10, 14, 19])"
            ]
          },
          "metadata": {},
          "execution_count": 85
        }
      ]
    },
    {
      "cell_type": "markdown",
      "source": [
        "indexación a través de rangos númericos\n",
        "```python\n",
        "v[star:stop:step]\n",
        "```\n",
        "por defecto star=0 (se incluye) y step=1, stop no se incluye en el rango númerico a la hora de indexar"
      ],
      "metadata": {
        "id": "DsN0SeBujWaI"
      }
    },
    {
      "cell_type": "code",
      "source": [
        "v"
      ],
      "metadata": {
        "id": "n0j87C0WL1fK",
        "outputId": "169eb9cf-dc7c-4310-9aa8-498ae51a6c15",
        "colab": {
          "base_uri": "https://localhost:8080/"
        }
      },
      "execution_count": null,
      "outputs": [
        {
          "output_type": "execute_result",
          "data": {
            "text/plain": [
              "array([10, 11, 12, 13, 14, 15, 16, 17, 18, 19])"
            ]
          },
          "metadata": {},
          "execution_count": 88
        }
      ]
    },
    {
      "cell_type": "code",
      "source": [
        "v[:3]"
      ],
      "metadata": {
        "id": "nAmpdGBVjrvo",
        "colab": {
          "base_uri": "https://localhost:8080/"
        },
        "outputId": "fc51c613-4372-4131-f499-21903af0864a"
      },
      "execution_count": null,
      "outputs": [
        {
          "output_type": "execute_result",
          "data": {
            "text/plain": [
              "array([10, 11, 12])"
            ]
          },
          "metadata": {},
          "execution_count": 89
        }
      ]
    },
    {
      "cell_type": "code",
      "source": [
        "v[1:3]"
      ],
      "metadata": {
        "colab": {
          "base_uri": "https://localhost:8080/"
        },
        "id": "Of_HQYRMwM68",
        "outputId": "a390dea7-8a96-4b7c-f941-60a8e197fae7"
      },
      "execution_count": null,
      "outputs": [
        {
          "output_type": "execute_result",
          "data": {
            "text/plain": [
              "array([11, 12])"
            ]
          },
          "metadata": {},
          "execution_count": 90
        }
      ]
    },
    {
      "cell_type": "code",
      "source": [
        "v[1:7:2]"
      ],
      "metadata": {
        "colab": {
          "base_uri": "https://localhost:8080/"
        },
        "id": "gSAxzZ4ZwT-y",
        "outputId": "bc9a6d0c-431b-4f2b-c85e-3e829d7fea46"
      },
      "execution_count": null,
      "outputs": [
        {
          "output_type": "execute_result",
          "data": {
            "text/plain": [
              "array([11, 13, 15])"
            ]
          },
          "metadata": {},
          "execution_count": 91
        }
      ]
    },
    {
      "cell_type": "code",
      "source": [
        "v[4:]"
      ],
      "metadata": {
        "colab": {
          "base_uri": "https://localhost:8080/"
        },
        "id": "VrmIVBvDwcWq",
        "outputId": "1336a63e-69b2-4f60-e18d-37b116ef11ad"
      },
      "execution_count": null,
      "outputs": [
        {
          "output_type": "execute_result",
          "data": {
            "text/plain": [
              "array([14, 15, 16, 17, 18, 19])"
            ]
          },
          "metadata": {},
          "execution_count": 92
        }
      ]
    },
    {
      "cell_type": "code",
      "source": [
        "v[3::2]"
      ],
      "metadata": {
        "colab": {
          "base_uri": "https://localhost:8080/"
        },
        "id": "xIRbM8EzwhmK",
        "outputId": "f517e6d4-28c0-47f7-c8c6-0fee62bdd989"
      },
      "execution_count": null,
      "outputs": [
        {
          "output_type": "execute_result",
          "data": {
            "text/plain": [
              "array([13, 15, 17, 19])"
            ]
          },
          "metadata": {},
          "execution_count": 93
        }
      ]
    },
    {
      "cell_type": "code",
      "source": [
        "v[:]"
      ],
      "metadata": {
        "colab": {
          "base_uri": "https://localhost:8080/"
        },
        "id": "DiOS5lzEw8ku",
        "outputId": "de86341e-d05d-4a79-b209-67881bcb8c57"
      },
      "execution_count": null,
      "outputs": [
        {
          "output_type": "execute_result",
          "data": {
            "text/plain": [
              "array([10, 11, 12, 13, 14, 15, 16, 17, 18, 19])"
            ]
          },
          "metadata": {},
          "execution_count": 91
        }
      ]
    },
    {
      "cell_type": "markdown",
      "source": [
        "Lo mismo en arreglos multidimensionales"
      ],
      "metadata": {
        "id": "q5Ol9httkRSy"
      }
    },
    {
      "cell_type": "code",
      "source": [
        "M = np.empty(shape=(4,4),dtype=np.uint8)"
      ],
      "metadata": {
        "id": "HOpw4BZSkayJ"
      },
      "execution_count": null,
      "outputs": []
    },
    {
      "cell_type": "code",
      "source": [
        "M"
      ],
      "metadata": {
        "colab": {
          "base_uri": "https://localhost:8080/"
        },
        "id": "JxAZ_9LBxNnx",
        "outputId": "b71b5408-347f-4a83-b5d6-d8d9aa5a52dd"
      },
      "execution_count": null,
      "outputs": [
        {
          "output_type": "execute_result",
          "data": {
            "text/plain": [
              "array([[144, 115,  12,   2],\n",
              "       [  0,   0,   0,   0],\n",
              "       [  0,   0,   0,   0],\n",
              "       [  0,   0,   0,   0]], dtype=uint8)"
            ]
          },
          "metadata": {},
          "execution_count": 97
        }
      ]
    },
    {
      "cell_type": "code",
      "source": [
        "M[0,2]"
      ],
      "metadata": {
        "colab": {
          "base_uri": "https://localhost:8080/"
        },
        "id": "sOHKGuusxOzO",
        "outputId": "b347805b-799a-4922-8dc7-67729d1206eb"
      },
      "execution_count": null,
      "outputs": [
        {
          "output_type": "execute_result",
          "data": {
            "text/plain": [
              "65"
            ]
          },
          "metadata": {},
          "execution_count": 94
        }
      ]
    },
    {
      "cell_type": "code",
      "source": [
        "M[0,1]"
      ],
      "metadata": {
        "colab": {
          "base_uri": "https://localhost:8080/"
        },
        "id": "lniHjoKXxvQs",
        "outputId": "f54bd144-2bde-409b-80e0-21835b9be742"
      },
      "execution_count": null,
      "outputs": [
        {
          "output_type": "execute_result",
          "data": {
            "text/plain": [
              "187"
            ]
          },
          "metadata": {},
          "execution_count": 96
        }
      ]
    },
    {
      "cell_type": "code",
      "source": [
        "M[0,1], M[2,3]"
      ],
      "metadata": {
        "colab": {
          "base_uri": "https://localhost:8080/"
        },
        "id": "oW2IJL9Fx4k8",
        "outputId": "24f2d500-3f4b-4bdb-d514-b6d02b48b8c1"
      },
      "execution_count": null,
      "outputs": [
        {
          "output_type": "execute_result",
          "data": {
            "text/plain": [
              "(187, 0)"
            ]
          },
          "metadata": {},
          "execution_count": 97
        }
      ]
    },
    {
      "cell_type": "code",
      "source": [
        "M[[0,2],[1,3]]"
      ],
      "metadata": {
        "colab": {
          "base_uri": "https://localhost:8080/"
        },
        "id": "kH9E5XfpxcrW",
        "outputId": "367d564b-7ed6-489b-f328-6fc629114363"
      },
      "execution_count": null,
      "outputs": [
        {
          "output_type": "execute_result",
          "data": {
            "text/plain": [
              "array([187,   0], dtype=uint8)"
            ]
          },
          "metadata": {},
          "execution_count": 95
        }
      ]
    },
    {
      "cell_type": "code",
      "source": [
        "M = np.random.randint(-100,100,(4,4))"
      ],
      "metadata": {
        "id": "XSDEBNJdMcjs"
      },
      "execution_count": null,
      "outputs": []
    },
    {
      "cell_type": "code",
      "source": [
        "print(M)"
      ],
      "metadata": {
        "id": "tntx2648M9QJ",
        "outputId": "5254089d-7818-41f5-9ca9-1b1be81251a2",
        "colab": {
          "base_uri": "https://localhost:8080/"
        }
      },
      "execution_count": null,
      "outputs": [
        {
          "output_type": "stream",
          "name": "stdout",
          "text": [
            "[[ 14 -22 -49  50]\n",
            " [ -9  82  93  22]\n",
            " [-97  93  63 -85]\n",
            " [-73  75  96  88]]\n"
          ]
        }
      ]
    },
    {
      "cell_type": "code",
      "source": [
        "raws = np.asarray([2,3])\n",
        "cols = np.asarray([1,2])"
      ],
      "metadata": {
        "id": "y6Id7-yLyD4D"
      },
      "execution_count": null,
      "outputs": []
    },
    {
      "cell_type": "code",
      "source": [
        "M[raws,cols]"
      ],
      "metadata": {
        "colab": {
          "base_uri": "https://localhost:8080/"
        },
        "id": "6sHLP3smyPWd",
        "outputId": "6f9654f6-9f0a-40b3-970d-41e04c7d0405"
      },
      "execution_count": null,
      "outputs": [
        {
          "output_type": "execute_result",
          "data": {
            "text/plain": [
              "array([93, 96])"
            ]
          },
          "metadata": {},
          "execution_count": 107
        }
      ]
    },
    {
      "cell_type": "code",
      "source": [
        "M[[2,3],[1,2]]"
      ],
      "metadata": {
        "id": "yS4NmcYBNO6G",
        "outputId": "df6e5219-0a76-4b07-f729-77b2e2020ac9",
        "colab": {
          "base_uri": "https://localhost:8080/"
        }
      },
      "execution_count": null,
      "outputs": [
        {
          "output_type": "execute_result",
          "data": {
            "text/plain": [
              "array([93, 96])"
            ]
          },
          "metadata": {},
          "execution_count": 109
        }
      ]
    },
    {
      "cell_type": "code",
      "source": [
        "M[:3:2,1:4:2]"
      ],
      "metadata": {
        "colab": {
          "base_uri": "https://localhost:8080/"
        },
        "id": "8F62mu11yZV8",
        "outputId": "4cef2041-e82e-4d7f-afbd-4d7ff9f0b141"
      },
      "execution_count": null,
      "outputs": [
        {
          "output_type": "execute_result",
          "data": {
            "text/plain": [
              "array([[-22,  50],\n",
              "       [ 93, -85]])"
            ]
          },
          "metadata": {},
          "execution_count": 111
        }
      ]
    },
    {
      "cell_type": "markdown",
      "source": [
        "Todos los elementos de una fila o columna"
      ],
      "metadata": {
        "id": "bpt4keQCmXiT"
      }
    },
    {
      "cell_type": "code",
      "source": [
        "M[...,0]"
      ],
      "metadata": {
        "id": "oHLsfrZxmUmi",
        "colab": {
          "base_uri": "https://localhost:8080/"
        },
        "outputId": "386b1ebe-3d70-43f9-a276-c4aa9fff601f"
      },
      "execution_count": null,
      "outputs": [
        {
          "output_type": "execute_result",
          "data": {
            "text/plain": [
              "array([ 14,  -9, -97, -73])"
            ]
          },
          "metadata": {},
          "execution_count": 112
        }
      ]
    },
    {
      "cell_type": "code",
      "source": [
        "M[0,...]"
      ],
      "metadata": {
        "colab": {
          "base_uri": "https://localhost:8080/"
        },
        "id": "MLKPZKBoy67q",
        "outputId": "226aa63e-33eb-49a0-dd2e-36164cb804f8"
      },
      "execution_count": null,
      "outputs": [
        {
          "output_type": "execute_result",
          "data": {
            "text/plain": [
              "array([ 14, -22, -49,  50])"
            ]
          },
          "metadata": {},
          "execution_count": 113
        }
      ]
    },
    {
      "cell_type": "markdown",
      "source": [
        "**Indexación booleana**\n",
        "\n",
        "Retorna todos los ementos de un objeto ndarray que cumplan con una condición o se puede indexar directamente a través de un vector boolenao."
      ],
      "metadata": {
        "id": "l84ecYu4ndTE"
      }
    },
    {
      "cell_type": "code",
      "source": [
        "v = np.linspace(0,10,20)\n",
        "v"
      ],
      "metadata": {
        "id": "BCGTy0VGnvRS",
        "colab": {
          "base_uri": "https://localhost:8080/"
        },
        "outputId": "dcbae49e-ce2d-4262-9b1a-f0cd8cb3c497"
      },
      "execution_count": null,
      "outputs": [
        {
          "output_type": "execute_result",
          "data": {
            "text/plain": [
              "array([ 0.        ,  0.52631579,  1.05263158,  1.57894737,  2.10526316,\n",
              "        2.63157895,  3.15789474,  3.68421053,  4.21052632,  4.73684211,\n",
              "        5.26315789,  5.78947368,  6.31578947,  6.84210526,  7.36842105,\n",
              "        7.89473684,  8.42105263,  8.94736842,  9.47368421, 10.        ])"
            ]
          },
          "metadata": {},
          "execution_count": 114
        }
      ]
    },
    {
      "cell_type": "code",
      "source": [
        "v>5"
      ],
      "metadata": {
        "id": "gQmCmQRWOC7q",
        "outputId": "ef12aabd-a7cc-4226-fd7b-7c9356411b77",
        "colab": {
          "base_uri": "https://localhost:8080/"
        }
      },
      "execution_count": null,
      "outputs": [
        {
          "output_type": "execute_result",
          "data": {
            "text/plain": [
              "array([False, False, False, False, False, False, False, False, False,\n",
              "       False,  True,  True,  True,  True,  True,  True,  True,  True,\n",
              "        True,  True])"
            ]
          },
          "metadata": {},
          "execution_count": 116
        }
      ]
    },
    {
      "cell_type": "code",
      "source": [
        "v[v>5]"
      ],
      "metadata": {
        "colab": {
          "base_uri": "https://localhost:8080/"
        },
        "id": "AvAPzvvC2Z9O",
        "outputId": "d370b764-cba6-4a26-87f7-88e6c48e1b87"
      },
      "execution_count": null,
      "outputs": [
        {
          "output_type": "execute_result",
          "data": {
            "text/plain": [
              "array([ 5.26315789,  5.78947368,  6.31578947,  6.84210526,  7.36842105,\n",
              "        7.89473684,  8.42105263,  8.94736842,  9.47368421, 10.        ])"
            ]
          },
          "metadata": {},
          "execution_count": 115
        }
      ]
    },
    {
      "cell_type": "code",
      "source": [
        "v[v<0.8]"
      ],
      "metadata": {
        "colab": {
          "base_uri": "https://localhost:8080/"
        },
        "id": "gTbSLdmZ2pxF",
        "outputId": "fb3d4ab3-c1ec-45c1-9585-bb27e0abf437"
      },
      "execution_count": null,
      "outputs": [
        {
          "output_type": "execute_result",
          "data": {
            "text/plain": [
              "array([0.        , 0.52631579])"
            ]
          },
          "metadata": {},
          "execution_count": 117
        }
      ]
    },
    {
      "cell_type": "code",
      "source": [
        "idx = v < 0.8\n",
        "idx"
      ],
      "metadata": {
        "colab": {
          "base_uri": "https://localhost:8080/"
        },
        "id": "GRa3tukH2vLw",
        "outputId": "dd2f7724-134c-47dc-e202-34415483ef79"
      },
      "execution_count": null,
      "outputs": [
        {
          "output_type": "execute_result",
          "data": {
            "text/plain": [
              "array([ True,  True, False, False, False, False, False, False, False,\n",
              "       False, False, False, False, False, False, False, False, False,\n",
              "       False, False])"
            ]
          },
          "metadata": {},
          "execution_count": 111
        }
      ]
    },
    {
      "cell_type": "code",
      "source": [
        "v[idx]"
      ],
      "metadata": {
        "colab": {
          "base_uri": "https://localhost:8080/"
        },
        "id": "cit1yK293DME",
        "outputId": "365a469a-292d-43ad-a8be-46205f073974"
      },
      "execution_count": null,
      "outputs": [
        {
          "output_type": "execute_result",
          "data": {
            "text/plain": [
              "array([0.        , 0.52631579])"
            ]
          },
          "metadata": {},
          "execution_count": 112
        }
      ]
    },
    {
      "cell_type": "code",
      "source": [
        "v = np.arange(5)"
      ],
      "metadata": {
        "id": "yt6kvggB3Hdr"
      },
      "execution_count": null,
      "outputs": []
    },
    {
      "cell_type": "code",
      "source": [
        "v"
      ],
      "metadata": {
        "colab": {
          "base_uri": "https://localhost:8080/"
        },
        "id": "pnPF_Qmf3OEF",
        "outputId": "b2a67dc2-3cc2-4bda-df91-b43ac3acbbab"
      },
      "execution_count": null,
      "outputs": [
        {
          "output_type": "execute_result",
          "data": {
            "text/plain": [
              "array([0, 1, 2, 3, 4])"
            ]
          },
          "metadata": {},
          "execution_count": 119
        }
      ]
    },
    {
      "cell_type": "code",
      "source": [
        "idx = [True, False, False, True, True]"
      ],
      "metadata": {
        "id": "h2D10VL83O83"
      },
      "execution_count": null,
      "outputs": []
    },
    {
      "cell_type": "code",
      "source": [
        "v[idx]"
      ],
      "metadata": {
        "colab": {
          "base_uri": "https://localhost:8080/"
        },
        "id": "fOTRFhPP3WVm",
        "outputId": "44473858-cae1-4287-856d-85281332a587"
      },
      "execution_count": null,
      "outputs": [
        {
          "output_type": "execute_result",
          "data": {
            "text/plain": [
              "array([0, 3, 4])"
            ]
          },
          "metadata": {},
          "execution_count": 121
        }
      ]
    },
    {
      "cell_type": "code",
      "source": [
        "M = np.empty((4,4))\n",
        "M"
      ],
      "metadata": {
        "colab": {
          "base_uri": "https://localhost:8080/"
        },
        "id": "w_MUNKcB3e1t",
        "outputId": "4f17190b-af09-41e1-800c-dae223e82a56"
      },
      "execution_count": null,
      "outputs": [
        {
          "output_type": "execute_result",
          "data": {
            "text/plain": [
              "array([[2.82675746e-316, 3.85371204e-322, 0.00000000e+000,\n",
              "        0.00000000e+000],\n",
              "       [0.00000000e+000, 1.50008929e+248, 4.31174539e-096,\n",
              "        9.80058441e+252],\n",
              "       [1.23971686e+224, 1.05148318e-153, 9.03292329e+271,\n",
              "        9.08366793e+223],\n",
              "       [1.06244660e-153, 3.44981369e+175, 6.81019663e-310,\n",
              "        0.00000000e+000]])"
            ]
          },
          "metadata": {},
          "execution_count": 118
        }
      ]
    },
    {
      "cell_type": "code",
      "source": [
        "M[M < 0]"
      ],
      "metadata": {
        "colab": {
          "base_uri": "https://localhost:8080/"
        },
        "id": "bekaQD1m3o7I",
        "outputId": "84253776-9ad7-40ce-802c-ff47d403e821"
      },
      "execution_count": null,
      "outputs": [
        {
          "output_type": "execute_result",
          "data": {
            "text/plain": [
              "array([], dtype=float64)"
            ]
          },
          "metadata": {},
          "execution_count": 120
        }
      ]
    },
    {
      "cell_type": "markdown",
      "source": [
        "### Exercise\n",
        "Remove the black spaces of an image"
      ],
      "metadata": {
        "id": "PyuEgAlkKvtw"
      }
    },
    {
      "cell_type": "code",
      "source": [
        "FILEID = \"12ba7E_rxvkKXSElYQeOrZPBxpWQyv2QO\"\n",
        "!wget --load-cookies /tmp/cookies.txt \"https://docs.google.com/uc?export=download&confirm=$(wget --quiet --save-cookies /tmp/cookies.txt --keep-session-cookies --no-check-certificate 'https://docs.google.com/uc?export=download&id='$FILEID -O- | sed -rn 's/.*confirm=([0-9A-Za-z_]+).*/\\1\\n/p')&id=\"$FILEID -O Numpy_wolf_crop.jpeg && rm -rf /tmp/cookies.txt > /dev/null"
      ],
      "metadata": {
        "colab": {
          "base_uri": "https://localhost:8080/"
        },
        "id": "9Y5eglAL_m0J",
        "outputId": "c6620fd4-d9a5-4c51-ffdc-73d18465f8e0"
      },
      "execution_count": null,
      "outputs": [
        {
          "output_type": "stream",
          "name": "stdout",
          "text": [
            "--2023-02-24 16:20:05--  https://docs.google.com/uc?export=download&confirm=&id=12ba7E_rxvkKXSElYQeOrZPBxpWQyv2QO\n",
            "Resolving docs.google.com (docs.google.com)... 142.250.141.101, 142.250.141.139, 142.250.141.100, ...\n",
            "Connecting to docs.google.com (docs.google.com)|142.250.141.101|:443... connected.\n",
            "HTTP request sent, awaiting response... 303 See Other\n",
            "Location: https://doc-14-60-docs.googleusercontent.com/docs/securesc/ha0ro937gcuc7l7deffksulhg5h7mbp1/q80bat3g5rqmkocbqufoikvbmpebr9hq/1677255600000/09711457892284675029/*/12ba7E_rxvkKXSElYQeOrZPBxpWQyv2QO?e=download&uuid=9e97acee-7174-4075-a235-a6bd7713dd86 [following]\n",
            "Warning: wildcards not supported in HTTP.\n",
            "--2023-02-24 16:20:05--  https://doc-14-60-docs.googleusercontent.com/docs/securesc/ha0ro937gcuc7l7deffksulhg5h7mbp1/q80bat3g5rqmkocbqufoikvbmpebr9hq/1677255600000/09711457892284675029/*/12ba7E_rxvkKXSElYQeOrZPBxpWQyv2QO?e=download&uuid=9e97acee-7174-4075-a235-a6bd7713dd86\n",
            "Resolving doc-14-60-docs.googleusercontent.com (doc-14-60-docs.googleusercontent.com)... 142.250.141.132, 2607:f8b0:4023:c0b::84\n",
            "Connecting to doc-14-60-docs.googleusercontent.com (doc-14-60-docs.googleusercontent.com)|142.250.141.132|:443... connected.\n",
            "HTTP request sent, awaiting response... 200 OK\n",
            "Length: 334669 (327K) [image/jpeg]\n",
            "Saving to: ‘Numpy_wolf_crop.jpeg’\n",
            "\n",
            "Numpy_wolf_crop.jpe 100%[===================>] 326.83K  --.-KB/s    in 0.004s  \n",
            "\n",
            "2023-02-24 16:20:05 (77.7 MB/s) - ‘Numpy_wolf_crop.jpeg’ saved [334669/334669]\n",
            "\n"
          ]
        }
      ]
    },
    {
      "cell_type": "code",
      "source": [
        "from cv2 import imread\n",
        "import matplotlib.pyplot as plt"
      ],
      "metadata": {
        "id": "Cqb-zIF4BGpg"
      },
      "execution_count": null,
      "outputs": []
    },
    {
      "cell_type": "code",
      "source": [
        "img = imread('./Numpy_wolf_crop.jpeg', 0) #Read image in grayscale and return in a numpy array\n",
        "print('Original Image shape = ',img.shape)\n",
        "print('Maximun pixel value (white) = ',img.max())\n",
        "\n",
        "\n",
        "fig = plt.figure(figsize=(10,10))\n",
        "plt.imshow(img, cmap='gray')\n",
        "plt.colorbar(orientation='horizontal', ticks=[img.min(), img.max()])"
      ],
      "metadata": {
        "colab": {
          "base_uri": "https://localhost:8080/",
          "height": 514
        },
        "id": "J5KAwY2SFCex",
        "outputId": "beb85301-cbbd-4d04-f4eb-8a1c597d0c3a"
      },
      "execution_count": null,
      "outputs": [
        {
          "output_type": "stream",
          "name": "stdout",
          "text": [
            "Original Image shape =  (1212, 2416)\n",
            "Maximun pixel value (white) =  255\n"
          ]
        },
        {
          "output_type": "execute_result",
          "data": {
            "text/plain": [
              "<matplotlib.colorbar.Colorbar at 0x7f137eea8d30>"
            ]
          },
          "metadata": {},
          "execution_count": 200
        },
        {
          "output_type": "display_data",
          "data": {
            "text/plain": [
              "<Figure size 720x720 with 2 Axes>"
            ],
            "image/png": "[encoded data removed]"
          },
          "metadata": {
            "needs_background": "light"
          }
        }
      ]
    },
    {
      "cell_type": "code",
      "source": [
        "img.shape"
      ],
      "metadata": {
        "id": "Y7Z-JZYubtOS",
        "outputId": "be01dbb5-a34f-4daf-f924-29772c921d69",
        "colab": {
          "base_uri": "https://localhost:8080/"
        }
      },
      "execution_count": null,
      "outputs": [
        {
          "output_type": "execute_result",
          "data": {
            "text/plain": [
              "(1212, 2416)"
            ]
          },
          "metadata": {},
          "execution_count": 203
        }
      ]
    },
    {
      "cell_type": "code",
      "source": [
        "sumRows = img.sum(axis=1)\n",
        "idx_rows = sumRows< (img.max()*img.shape[1])"
      ],
      "metadata": {
        "id": "gbfqFgdzZ9Lg"
      },
      "execution_count": null,
      "outputs": []
    },
    {
      "cell_type": "code",
      "source": [
        "idx_rows.shape"
      ],
      "metadata": {
        "id": "r3-SA1H3brZG",
        "outputId": "05b38eb1-abc5-42ae-8b4e-a45c8799be24",
        "colab": {
          "base_uri": "https://localhost:8080/"
        }
      },
      "execution_count": null,
      "outputs": [
        {
          "output_type": "execute_result",
          "data": {
            "text/plain": [
              "(1212,)"
            ]
          },
          "metadata": {},
          "execution_count": 202
        }
      ]
    },
    {
      "cell_type": "code",
      "source": [
        "img = img[idx_rows,:]"
      ],
      "metadata": {
        "id": "f6TmAJ6lazfR"
      },
      "execution_count": null,
      "outputs": []
    },
    {
      "cell_type": "code",
      "source": [
        "img.shape"
      ],
      "metadata": {
        "id": "zphYixxQbzHH",
        "outputId": "775fe797-5295-4675-898d-1f0feb884d52",
        "colab": {
          "base_uri": "https://localhost:8080/"
        }
      },
      "execution_count": null,
      "outputs": [
        {
          "output_type": "execute_result",
          "data": {
            "text/plain": [
              "(992, 2416)"
            ]
          },
          "metadata": {},
          "execution_count": 206
        }
      ]
    },
    {
      "cell_type": "code",
      "source": [
        "sumCol = img.sum(axis=0)\n",
        "idx_cols = sumCol< (img.max()*img.shape[0])"
      ],
      "metadata": {
        "id": "LF_nUgkQbCcz"
      },
      "execution_count": null,
      "outputs": []
    },
    {
      "cell_type": "code",
      "source": [
        "img = img[:,idx_cols]"
      ],
      "metadata": {
        "id": "2kVdh3YhbG93"
      },
      "execution_count": null,
      "outputs": []
    },
    {
      "cell_type": "code",
      "source": [
        "plt.imshow(img,cmap=\"gray\")\n",
        "plt.show()"
      ],
      "metadata": {
        "id": "5Kp6NfXEXvHV",
        "outputId": "0246ea66-c1b2-48fc-95c3-409a64e5b8ac",
        "colab": {
          "base_uri": "https://localhost:8080/",
          "height": 233
        }
      },
      "execution_count": null,
      "outputs": [
        {
          "output_type": "display_data",
          "data": {
            "text/plain": [
              "<Figure size 432x288 with 1 Axes>"
            ],
            "image/png": "[encoded data removed]"
          },
          "metadata": {
            "needs_background": "light"
          }
        }
      ]
    },
    {
      "cell_type": "code",
      "source": [
        "plt.plot(rows)\n",
        "plt.show()"
      ],
      "metadata": {
        "id": "zwLPBxLwVLMv",
        "outputId": "64346a3a-2f10-45e9-cc3c-3dba0414cead",
        "colab": {
          "base_uri": "https://localhost:8080/",
          "height": 285
        }
      },
      "execution_count": null,
      "outputs": [
        {
          "output_type": "display_data",
          "data": {
            "text/plain": [
              "<Figure size 432x288 with 1 Axes>"
            ],
            "image/png": "[encoded data removed]"
          },
          "metadata": {
            "needs_background": "light"
          }
        }
      ]
    },
    {
      "cell_type": "code",
      "source": [
        "rows[0]"
      ],
      "metadata": {
        "id": "AabZCoI2WJpC",
        "outputId": "6419a483-ca84-445a-b6fc-f7b2c5b1d9b2",
        "colab": {
          "base_uri": "https://localhost:8080/"
        }
      },
      "execution_count": null,
      "outputs": [
        {
          "output_type": "execute_result",
          "data": {
            "text/plain": [
              "616080"
            ]
          },
          "metadata": {},
          "execution_count": 134
        }
      ]
    },
    {
      "cell_type": "markdown",
      "source": [
        "## Operaciones Aritméticas\n",
        "\n",
        "Las operaciones aritméticas en Numpy se realizan entre arreglos del mismo tamaño elemento a elemento.\n",
        "\n",
        "<img src=\"https://drive.google.com/uc?export=view&id=1415xc3DnOZ4qDzNZhNa9Eh4La3bCVkWY\" width=\"80%\" height=\"40%\"/>\n",
        "\n",
        "<img src=\"https://drive.google.com/uc?export=view&id=1jp_cgN9QtemGSI_bjxrcd2Etc-Ci0qfP\" width=\"80%\" height=\"40%\"/>"
      ],
      "metadata": {
        "id": "3V2vjxbTmORx"
      }
    },
    {
      "cell_type": "code",
      "source": [
        "a = np.arange(10)\n",
        "b = np.linspace(2,20,10)"
      ],
      "metadata": {
        "id": "hWMHcw-9451W"
      },
      "execution_count": null,
      "outputs": []
    },
    {
      "cell_type": "code",
      "source": [
        "a,b"
      ],
      "metadata": {
        "colab": {
          "base_uri": "https://localhost:8080/"
        },
        "id": "UfWxupKL5CoD",
        "outputId": "d6030b8e-277c-4b8f-98ba-c1c5547e4a52"
      },
      "execution_count": null,
      "outputs": [
        {
          "output_type": "execute_result",
          "data": {
            "text/plain": [
              "(array([0, 1, 2, 3, 4, 5, 6, 7, 8, 9]),\n",
              " array([ 2.,  4.,  6.,  8., 10., 12., 14., 16., 18., 20.]))"
            ]
          },
          "metadata": {},
          "execution_count": 122
        }
      ]
    },
    {
      "cell_type": "code",
      "source": [
        "a.shape, b.shape"
      ],
      "metadata": {
        "colab": {
          "base_uri": "https://localhost:8080/"
        },
        "id": "RO0asIg75IRb",
        "outputId": "ce27b38d-bba2-483a-e7cd-8f2f233cd810"
      },
      "execution_count": null,
      "outputs": [
        {
          "output_type": "execute_result",
          "data": {
            "text/plain": [
              "((10,), (10,))"
            ]
          },
          "metadata": {},
          "execution_count": 123
        }
      ]
    },
    {
      "cell_type": "code",
      "source": [
        "a + b "
      ],
      "metadata": {
        "colab": {
          "base_uri": "https://localhost:8080/"
        },
        "id": "MoEvU1rg5MyK",
        "outputId": "a248f989-9012-4288-fb07-d4b09f942212"
      },
      "execution_count": null,
      "outputs": [
        {
          "output_type": "execute_result",
          "data": {
            "text/plain": [
              "array([ 2.,  5.,  8., 11., 14., 17., 20., 23., 26., 29.])"
            ]
          },
          "metadata": {},
          "execution_count": 124
        }
      ]
    },
    {
      "cell_type": "code",
      "source": [
        "a - b"
      ],
      "metadata": {
        "colab": {
          "base_uri": "https://localhost:8080/"
        },
        "id": "He-bTIbN5Unc",
        "outputId": "825ce286-cd21-459c-a8a1-d528337a0aa9"
      },
      "execution_count": null,
      "outputs": [
        {
          "output_type": "execute_result",
          "data": {
            "text/plain": [
              "array([ -2.,  -3.,  -4.,  -5.,  -6.,  -7.,  -8.,  -9., -10., -11.])"
            ]
          },
          "metadata": {},
          "execution_count": 125
        }
      ]
    },
    {
      "cell_type": "code",
      "source": [
        "a*b"
      ],
      "metadata": {
        "colab": {
          "base_uri": "https://localhost:8080/"
        },
        "id": "sBwX2rhB5WLc",
        "outputId": "5b4c4b8a-a878-4ea7-e2b0-aaef4b1a37ca"
      },
      "execution_count": null,
      "outputs": [
        {
          "output_type": "execute_result",
          "data": {
            "text/plain": [
              "array([  0.,   4.,  12.,  24.,  40.,  60.,  84., 112., 144., 180.])"
            ]
          },
          "metadata": {},
          "execution_count": 126
        }
      ]
    },
    {
      "cell_type": "code",
      "source": [
        "a/b"
      ],
      "metadata": {
        "colab": {
          "base_uri": "https://localhost:8080/"
        },
        "id": "dD5C9Njn5YcF",
        "outputId": "c5bf7d17-44e7-4ebc-967f-aee9d56fe1dc"
      },
      "execution_count": null,
      "outputs": [
        {
          "output_type": "execute_result",
          "data": {
            "text/plain": [
              "array([0.        , 0.25      , 0.33333333, 0.375     , 0.4       ,\n",
              "       0.41666667, 0.42857143, 0.4375    , 0.44444444, 0.45      ])"
            ]
          },
          "metadata": {},
          "execution_count": 127
        }
      ]
    },
    {
      "cell_type": "code",
      "source": [
        "a = np.random.randint(0,10,(4,4))\n",
        "b = np.ones((4,4))"
      ],
      "metadata": {
        "id": "t6h4mzvF5bLe"
      },
      "execution_count": null,
      "outputs": []
    },
    {
      "cell_type": "code",
      "source": [
        "a, b"
      ],
      "metadata": {
        "colab": {
          "base_uri": "https://localhost:8080/"
        },
        "id": "UxrG4R9W5m8r",
        "outputId": "d55defc1-6523-4dce-ed63-593000674fe6"
      },
      "execution_count": null,
      "outputs": [
        {
          "output_type": "execute_result",
          "data": {
            "text/plain": [
              "(array([[0, 9, 0, 6],\n",
              "        [7, 3, 1, 0],\n",
              "        [6, 1, 8, 1],\n",
              "        [7, 9, 8, 8]]), array([[1., 1., 1., 1.],\n",
              "        [1., 1., 1., 1.],\n",
              "        [1., 1., 1., 1.],\n",
              "        [1., 1., 1., 1.]]))"
            ]
          },
          "metadata": {},
          "execution_count": 129
        }
      ]
    },
    {
      "cell_type": "code",
      "source": [
        "a + b"
      ],
      "metadata": {
        "colab": {
          "base_uri": "https://localhost:8080/"
        },
        "id": "RJR5qgir5oqQ",
        "outputId": "705fd69d-f373-481b-f9f1-71f10d01273b"
      },
      "execution_count": null,
      "outputs": [
        {
          "output_type": "execute_result",
          "data": {
            "text/plain": [
              "array([[ 1., 10.,  1.,  7.],\n",
              "       [ 8.,  4.,  2.,  1.],\n",
              "       [ 7.,  2.,  9.,  2.],\n",
              "       [ 8., 10.,  9.,  9.]])"
            ]
          },
          "metadata": {},
          "execution_count": 130
        }
      ]
    },
    {
      "cell_type": "code",
      "source": [
        "a * b"
      ],
      "metadata": {
        "colab": {
          "base_uri": "https://localhost:8080/"
        },
        "id": "0g9o-iPD5uaa",
        "outputId": "ad1fd557-215a-453a-c8f5-16de2f187491"
      },
      "execution_count": null,
      "outputs": [
        {
          "output_type": "execute_result",
          "data": {
            "text/plain": [
              "array([[0., 9., 0., 6.],\n",
              "       [7., 3., 1., 0.],\n",
              "       [6., 1., 8., 1.],\n",
              "       [7., 9., 8., 8.]])"
            ]
          },
          "metadata": {},
          "execution_count": 131
        }
      ]
    },
    {
      "cell_type": "code",
      "source": [
        "a -b"
      ],
      "metadata": {
        "colab": {
          "base_uri": "https://localhost:8080/"
        },
        "id": "cF9waKDV5w1x",
        "outputId": "ebd7faab-261d-4531-8f6d-405063a478aa"
      },
      "execution_count": null,
      "outputs": [
        {
          "output_type": "execute_result",
          "data": {
            "text/plain": [
              "array([[-1.,  8., -1.,  5.],\n",
              "       [ 6.,  2.,  0., -1.],\n",
              "       [ 5.,  0.,  7.,  0.],\n",
              "       [ 6.,  8.,  7.,  7.]])"
            ]
          },
          "metadata": {},
          "execution_count": 132
        }
      ]
    },
    {
      "cell_type": "code",
      "source": [
        "a/b"
      ],
      "metadata": {
        "colab": {
          "base_uri": "https://localhost:8080/"
        },
        "id": "GZFuiiKs5yHI",
        "outputId": "6bd47d5c-cd30-4c05-eb97-3a2689558109"
      },
      "execution_count": null,
      "outputs": [
        {
          "output_type": "execute_result",
          "data": {
            "text/plain": [
              "array([[0., 9., 0., 6.],\n",
              "       [7., 3., 1., 0.],\n",
              "       [6., 1., 8., 1.],\n",
              "       [7., 9., 8., 8.]])"
            ]
          },
          "metadata": {},
          "execution_count": 133
        }
      ]
    },
    {
      "cell_type": "markdown",
      "source": [
        "## Broadcasting\n",
        "\n",
        "El término broadcasting se refiere a la habilidad de Numpy de realizar operaciones aritméticas sobre arreglos de diferente tamaño.\n",
        "\n",
        "<img src=\"https://drive.google.com/uc?export=view&id=1ONZDSkV9jQmpIc1bLg6iLjs5DbedIPk0\" width=\"80%\" height=\"40%\"/>"
      ],
      "metadata": {
        "id": "XvQNRqI4bkND"
      }
    },
    {
      "cell_type": "code",
      "source": [
        "a = np.array([[0.0,0.0,0.0],[10.0,10.0,10.0],[20.0,20.0,20.0],[30.0,30.0,30.0]]) \n",
        "b = np.array([1.0,2.0,3.0])  "
      ],
      "metadata": {
        "id": "dE17l2lg6ekC"
      },
      "execution_count": null,
      "outputs": []
    },
    {
      "cell_type": "code",
      "source": [
        "a.shape, b.shape"
      ],
      "metadata": {
        "colab": {
          "base_uri": "https://localhost:8080/"
        },
        "id": "i4-V1v5d6iJA",
        "outputId": "7e140914-8f6d-4c88-863b-635887665a7f"
      },
      "execution_count": null,
      "outputs": [
        {
          "output_type": "execute_result",
          "data": {
            "text/plain": [
              "((4, 3), (3,))"
            ]
          },
          "metadata": {},
          "execution_count": 135
        }
      ]
    },
    {
      "cell_type": "code",
      "source": [
        "a "
      ],
      "metadata": {
        "colab": {
          "base_uri": "https://localhost:8080/"
        },
        "id": "BpjKqW0J6sH5",
        "outputId": "2d7c8ad0-bf6a-4453-abfc-80949d255d5a"
      },
      "execution_count": null,
      "outputs": [
        {
          "output_type": "execute_result",
          "data": {
            "text/plain": [
              "array([[ 0.,  0.,  0.],\n",
              "       [10., 10., 10.],\n",
              "       [20., 20., 20.],\n",
              "       [30., 30., 30.]])"
            ]
          },
          "metadata": {},
          "execution_count": 137
        }
      ]
    },
    {
      "cell_type": "code",
      "source": [
        "a + 2 "
      ],
      "metadata": {
        "colab": {
          "base_uri": "https://localhost:8080/"
        },
        "id": "7LNA2YaA6my3",
        "outputId": "2d40a0f0-7445-40fb-e242-eb1497242eea"
      },
      "execution_count": null,
      "outputs": [
        {
          "output_type": "execute_result",
          "data": {
            "text/plain": [
              "array([[ 2.,  2.,  2.],\n",
              "       [12., 12., 12.],\n",
              "       [22., 22., 22.],\n",
              "       [32., 32., 32.]])"
            ]
          },
          "metadata": {},
          "execution_count": 136
        }
      ]
    },
    {
      "cell_type": "code",
      "source": [
        "a * 2"
      ],
      "metadata": {
        "colab": {
          "base_uri": "https://localhost:8080/"
        },
        "id": "eQvaDTAA6v4c",
        "outputId": "4ac621d0-bf6c-4974-db99-054c88225fec"
      },
      "execution_count": null,
      "outputs": [
        {
          "output_type": "execute_result",
          "data": {
            "text/plain": [
              "array([[ 0.,  0.,  0.],\n",
              "       [20., 20., 20.],\n",
              "       [40., 40., 40.],\n",
              "       [60., 60., 60.]])"
            ]
          },
          "metadata": {},
          "execution_count": 138
        }
      ]
    },
    {
      "cell_type": "code",
      "source": [
        "a/2"
      ],
      "metadata": {
        "colab": {
          "base_uri": "https://localhost:8080/"
        },
        "id": "WuRrh-tr6xhl",
        "outputId": "38ed9719-6cc8-4190-c753-62dedf5d443d"
      },
      "execution_count": null,
      "outputs": [
        {
          "output_type": "execute_result",
          "data": {
            "text/plain": [
              "array([[ 0.,  0.,  0.],\n",
              "       [ 5.,  5.,  5.],\n",
              "       [10., 10., 10.],\n",
              "       [15., 15., 15.]])"
            ]
          },
          "metadata": {},
          "execution_count": 139
        }
      ]
    },
    {
      "cell_type": "code",
      "source": [
        "c = a + b"
      ],
      "metadata": {
        "id": "rWqg00OJ67u8"
      },
      "execution_count": null,
      "outputs": []
    },
    {
      "cell_type": "code",
      "source": [
        "c.shape"
      ],
      "metadata": {
        "colab": {
          "base_uri": "https://localhost:8080/"
        },
        "id": "bEqdMLG-7CQR",
        "outputId": "ad4e0137-cb2d-452e-8828-8e3040b13f21"
      },
      "execution_count": null,
      "outputs": [
        {
          "output_type": "execute_result",
          "data": {
            "text/plain": [
              "(4, 3)"
            ]
          },
          "metadata": {},
          "execution_count": 141
        }
      ]
    },
    {
      "cell_type": "code",
      "source": [
        "d = a/b\n",
        "a.shape"
      ],
      "metadata": {
        "colab": {
          "base_uri": "https://localhost:8080/"
        },
        "id": "ZrTx2RUQ7Ubx",
        "outputId": "ace01b32-8480-44d0-b139-9b36e203c6d8"
      },
      "execution_count": null,
      "outputs": [
        {
          "output_type": "execute_result",
          "data": {
            "text/plain": [
              "(4, 3)"
            ]
          },
          "metadata": {},
          "execution_count": 142
        }
      ]
    },
    {
      "cell_type": "code",
      "source": [
        "d"
      ],
      "metadata": {
        "colab": {
          "base_uri": "https://localhost:8080/"
        },
        "id": "4sTp4VtJ7aJj",
        "outputId": "11609903-1fa1-438c-bd27-5520ff42dfd7"
      },
      "execution_count": null,
      "outputs": [
        {
          "output_type": "execute_result",
          "data": {
            "text/plain": [
              "array([[ 0.        ,  0.        ,  0.        ],\n",
              "       [10.        ,  5.        ,  3.33333333],\n",
              "       [20.        , 10.        ,  6.66666667],\n",
              "       [30.        , 15.        , 10.        ]])"
            ]
          },
          "metadata": {},
          "execution_count": 143
        }
      ]
    },
    {
      "cell_type": "code",
      "source": [
        "a = np.ones((10,1))\n",
        "b = 2*np.ones((1,10))"
      ],
      "metadata": {
        "id": "6DMoSJ7c7m1I"
      },
      "execution_count": null,
      "outputs": []
    },
    {
      "cell_type": "code",
      "source": [
        "a.shape, b.shape"
      ],
      "metadata": {
        "colab": {
          "base_uri": "https://localhost:8080/"
        },
        "id": "LyLYlYFF7umV",
        "outputId": "57580d2f-3b69-4cb9-a974-5f4f8a0b3a7f"
      },
      "execution_count": null,
      "outputs": [
        {
          "output_type": "execute_result",
          "data": {
            "text/plain": [
              "((10, 1), (1, 10))"
            ]
          },
          "metadata": {},
          "execution_count": 148
        }
      ]
    },
    {
      "cell_type": "code",
      "source": [
        "a,b"
      ],
      "metadata": {
        "colab": {
          "base_uri": "https://localhost:8080/"
        },
        "id": "nscjezJk7w1g",
        "outputId": "277ec3df-70ea-447f-b9e9-14020d98400c"
      },
      "execution_count": null,
      "outputs": [
        {
          "output_type": "execute_result",
          "data": {
            "text/plain": [
              "(array([[1.],\n",
              "        [1.],\n",
              "        [1.],\n",
              "        [1.],\n",
              "        [1.],\n",
              "        [1.],\n",
              "        [1.],\n",
              "        [1.],\n",
              "        [1.],\n",
              "        [1.]]), array([[2., 2., 2., 2., 2., 2., 2., 2., 2., 2.]]))"
            ]
          },
          "metadata": {},
          "execution_count": 149
        }
      ]
    },
    {
      "cell_type": "code",
      "source": [
        "c = a+b"
      ],
      "metadata": {
        "id": "kS735cSB71U6"
      },
      "execution_count": null,
      "outputs": []
    },
    {
      "cell_type": "code",
      "source": [
        "c"
      ],
      "metadata": {
        "colab": {
          "base_uri": "https://localhost:8080/"
        },
        "id": "UJUgz7rL78FX",
        "outputId": "4ca46536-81f3-4c9e-924c-81594fba8f9c"
      },
      "execution_count": null,
      "outputs": [
        {
          "output_type": "execute_result",
          "data": {
            "text/plain": [
              "array([[3., 3., 3., 3., 3., 3., 3., 3., 3., 3.],\n",
              "       [3., 3., 3., 3., 3., 3., 3., 3., 3., 3.],\n",
              "       [3., 3., 3., 3., 3., 3., 3., 3., 3., 3.],\n",
              "       [3., 3., 3., 3., 3., 3., 3., 3., 3., 3.],\n",
              "       [3., 3., 3., 3., 3., 3., 3., 3., 3., 3.],\n",
              "       [3., 3., 3., 3., 3., 3., 3., 3., 3., 3.],\n",
              "       [3., 3., 3., 3., 3., 3., 3., 3., 3., 3.],\n",
              "       [3., 3., 3., 3., 3., 3., 3., 3., 3., 3.],\n",
              "       [3., 3., 3., 3., 3., 3., 3., 3., 3., 3.],\n",
              "       [3., 3., 3., 3., 3., 3., 3., 3., 3., 3.]])"
            ]
          },
          "metadata": {},
          "execution_count": 151
        }
      ]
    },
    {
      "cell_type": "code",
      "source": [
        "c.shape"
      ],
      "metadata": {
        "colab": {
          "base_uri": "https://localhost:8080/"
        },
        "id": "Z51twmDL8ClC",
        "outputId": "2f8c1672-7afe-4394-92b0-7773d095e2c8"
      },
      "execution_count": null,
      "outputs": [
        {
          "output_type": "execute_result",
          "data": {
            "text/plain": [
              "(10, 10)"
            ]
          },
          "metadata": {},
          "execution_count": 152
        }
      ]
    },
    {
      "cell_type": "code",
      "source": [
        "d = a*b\n",
        "d.shape"
      ],
      "metadata": {
        "colab": {
          "base_uri": "https://localhost:8080/"
        },
        "id": "RC_hdHAJ8Gws",
        "outputId": "c1dfe87a-1469-42cb-d0d6-93e98cee9cbe"
      },
      "execution_count": null,
      "outputs": [
        {
          "output_type": "execute_result",
          "data": {
            "text/plain": [
              "(10, 10)"
            ]
          },
          "metadata": {},
          "execution_count": 153
        }
      ]
    },
    {
      "cell_type": "markdown",
      "source": [
        "## Operaciones"
      ],
      "metadata": {
        "id": "tBbnl04xmVTE"
      }
    },
    {
      "cell_type": "markdown",
      "source": [
        "operaciones sobre escalares (si la entrada es un arreglo, se hace elemento a elemento)"
      ],
      "metadata": {
        "id": "0jqueJWgV2DA"
      }
    },
    {
      "cell_type": "code",
      "source": [
        "a = -1*np.arange(16)\n",
        "a.shape = (4,4)"
      ],
      "metadata": {
        "id": "B9-IDjkH8YcL"
      },
      "execution_count": null,
      "outputs": []
    },
    {
      "cell_type": "code",
      "source": [
        "a"
      ],
      "metadata": {
        "colab": {
          "base_uri": "https://localhost:8080/"
        },
        "id": "wQj7W4v38fgv",
        "outputId": "305a54de-4533-4cb2-a318-df31d82a487c"
      },
      "execution_count": null,
      "outputs": [
        {
          "output_type": "execute_result",
          "data": {
            "text/plain": [
              "array([[  0,  -1,  -2,  -3],\n",
              "       [ -4,  -5,  -6,  -7],\n",
              "       [ -8,  -9, -10, -11],\n",
              "       [-12, -13, -14, -15]])"
            ]
          },
          "metadata": {},
          "execution_count": 156
        }
      ]
    },
    {
      "cell_type": "code",
      "source": [
        "b = np.exp(a)"
      ],
      "metadata": {
        "id": "0aF4f7En8i2x"
      },
      "execution_count": null,
      "outputs": []
    },
    {
      "cell_type": "code",
      "source": [
        "b"
      ],
      "metadata": {
        "colab": {
          "base_uri": "https://localhost:8080/"
        },
        "id": "3TAz3tNM8pp4",
        "outputId": "aaee19cc-5d3d-498c-879d-8b1f093bac54"
      },
      "execution_count": null,
      "outputs": [
        {
          "output_type": "execute_result",
          "data": {
            "text/plain": [
              "array([[1.00000000e+00, 3.67879441e-01, 1.35335283e-01, 4.97870684e-02],\n",
              "       [1.83156389e-02, 6.73794700e-03, 2.47875218e-03, 9.11881966e-04],\n",
              "       [3.35462628e-04, 1.23409804e-04, 4.53999298e-05, 1.67017008e-05],\n",
              "       [6.14421235e-06, 2.26032941e-06, 8.31528719e-07, 3.05902321e-07]])"
            ]
          },
          "metadata": {},
          "execution_count": 159
        }
      ]
    },
    {
      "cell_type": "code",
      "source": [
        "c = np.round(b,2)"
      ],
      "metadata": {
        "id": "THJVZdHX8uL1"
      },
      "execution_count": null,
      "outputs": []
    },
    {
      "cell_type": "code",
      "source": [
        "c"
      ],
      "metadata": {
        "colab": {
          "base_uri": "https://localhost:8080/"
        },
        "id": "J_r84JBM80GR",
        "outputId": "e73cc480-9df7-4710-ccce-070783066985"
      },
      "execution_count": null,
      "outputs": [
        {
          "output_type": "execute_result",
          "data": {
            "text/plain": [
              "array([[1.  , 0.37, 0.14, 0.05],\n",
              "       [0.02, 0.01, 0.  , 0.  ],\n",
              "       [0.  , 0.  , 0.  , 0.  ],\n",
              "       [0.  , 0.  , 0.  , 0.  ]])"
            ]
          },
          "metadata": {},
          "execution_count": 161
        }
      ]
    },
    {
      "cell_type": "code",
      "source": [
        "d = np.cos(c*np.pi/180)"
      ],
      "metadata": {
        "id": "bFm9n78a83uX"
      },
      "execution_count": null,
      "outputs": []
    },
    {
      "cell_type": "code",
      "source": [
        "d"
      ],
      "metadata": {
        "colab": {
          "base_uri": "https://localhost:8080/"
        },
        "id": "JStJAfTC89P8",
        "outputId": "76f05996-448c-4dac-9c57-54252a1f26b1"
      },
      "execution_count": null,
      "outputs": [
        {
          "output_type": "execute_result",
          "data": {
            "text/plain": [
              "array([[0.9998477 , 0.99997915, 0.99999701, 0.99999962],\n",
              "       [0.99999994, 0.99999998, 1.        , 1.        ],\n",
              "       [1.        , 1.        , 1.        , 1.        ],\n",
              "       [1.        , 1.        , 1.        , 1.        ]])"
            ]
          },
          "metadata": {},
          "execution_count": 163
        }
      ]
    },
    {
      "cell_type": "markdown",
      "source": [
        "operaciones sobre arreglos, debe especificarse un axis"
      ],
      "metadata": {
        "id": "ym0pmeRIWCt3"
      }
    },
    {
      "cell_type": "code",
      "source": [
        "b = np.sum(a)"
      ],
      "metadata": {
        "id": "FMkJ64uj9FaV"
      },
      "execution_count": null,
      "outputs": []
    },
    {
      "cell_type": "code",
      "source": [
        "b"
      ],
      "metadata": {
        "colab": {
          "base_uri": "https://localhost:8080/"
        },
        "id": "28hJSEJM9KaP",
        "outputId": "c2589444-7a1e-411e-df21-9c1f5849e6b7"
      },
      "execution_count": null,
      "outputs": [
        {
          "output_type": "execute_result",
          "data": {
            "text/plain": [
              "-120"
            ]
          },
          "metadata": {},
          "execution_count": 165
        }
      ]
    },
    {
      "cell_type": "code",
      "source": [
        "b = np.sum(a,axis=0)\n",
        "b"
      ],
      "metadata": {
        "colab": {
          "base_uri": "https://localhost:8080/"
        },
        "id": "1g85uigL9OHP",
        "outputId": "3eeb7f90-82f8-4b53-b7a3-fbd809b12769"
      },
      "execution_count": null,
      "outputs": [
        {
          "output_type": "execute_result",
          "data": {
            "text/plain": [
              "array([-24, -28, -32, -36])"
            ]
          },
          "metadata": {},
          "execution_count": 166
        }
      ]
    },
    {
      "cell_type": "code",
      "source": [
        "b = np.sum(a, axis=1)\n",
        "b"
      ],
      "metadata": {
        "colab": {
          "base_uri": "https://localhost:8080/"
        },
        "id": "fPRQaS_R9fMn",
        "outputId": "499d08fd-ecae-4440-8005-c52cb6569b82"
      },
      "execution_count": null,
      "outputs": [
        {
          "output_type": "execute_result",
          "data": {
            "text/plain": [
              "array([ -6, -22, -38, -54])"
            ]
          },
          "metadata": {},
          "execution_count": 168
        }
      ]
    },
    {
      "cell_type": "code",
      "source": [
        "b = np.mean(a, axis=0)\n",
        "b"
      ],
      "metadata": {
        "colab": {
          "base_uri": "https://localhost:8080/"
        },
        "id": "rtqN9K519trG",
        "outputId": "a4d354d3-81f5-43d2-b31d-94bc0e9d759c"
      },
      "execution_count": null,
      "outputs": [
        {
          "output_type": "execute_result",
          "data": {
            "text/plain": [
              "array([-6., -7., -8., -9.])"
            ]
          },
          "metadata": {},
          "execution_count": 170
        }
      ]
    },
    {
      "cell_type": "code",
      "source": [
        "b = np.linalg.norm(a, ord=2,axis=1)\n",
        "b"
      ],
      "metadata": {
        "colab": {
          "base_uri": "https://localhost:8080/"
        },
        "id": "anTBPE2C9x4Z",
        "outputId": "2f508dab-f504-4258-cfed-a5ba1e201299"
      },
      "execution_count": null,
      "outputs": [
        {
          "output_type": "execute_result",
          "data": {
            "text/plain": [
              "array([ 3.74165739, 11.22497216, 19.13112647, 27.09243437])"
            ]
          },
          "metadata": {},
          "execution_count": 171
        }
      ]
    },
    {
      "cell_type": "markdown",
      "source": [
        "**Tarea** Programar el kernel gaussiano $k(x,x') = e^{\\big ( -\\frac{\\lVert x - x' \\rVert_2^2}{2\\sigma^2} \\big)}$, donde $x,x' \\in \\mathbb{R}^P; \\sigma \\in \\{s \\in \\mathbb{R}^+ | s \\neq 0  \\}$, para un par de muestras.\n",
        "\n",
        "Calcular el kernel gaussiano entre todos los pares de muestras de los conjuntos de muestras $X, X' \\in \\mathbb{R}^{N \\times P}$, se debe obtener una matriz $K \\in [-1,1]^{N \\times N}$, donde cada elemento de la matriz correponde al kernel evaluado sobre un par de muestras."
      ],
      "metadata": {
        "id": "uwb2EnT2bqbU"
      }
    },
    {
      "cell_type": "markdown",
      "source": [
        "**tarea**\n",
        "1. Investigar las operaciones más importantes soportadas en Numpy [3](https://numpy.org/doc/stable/reference/routines.math.html), [4](https://numpy.org/doc/stable/reference/routines.linalg.html), [5](https://numpy.org/doc/stable/reference/routines.statistics.html).\n",
        "\n",
        "2. En un notebook escribir la ecuación matemática de cada kernel, crear una clase que permita evaluar  los 10 primeros kernels de la siguiente página [6](http://crsouza.com/2010/03/17/kernel-functions-for-machine-learning-applications/), teniendo en cuenta 1) $x, y \\in \\mathbb{R}^p$ sean muestras 2) $X,Y \\in \\mathbb{R}^{N \\times P}$ sean conjuntos de muestras. Comprobar el correcto funcionameinto sobre datos sintéticos."
      ],
      "metadata": {
        "id": "M_6BR5A4RSaW"
      }
    },
    {
      "cell_type": "markdown",
      "source": [
        "## Copias y Vistas\n",
        "\n",
        "1. Vistas: Dos o más objetos ndarray apuntan a la misma dirección de memoria, por lo cual al modificar uno de ellos se modifican los demás.\n",
        "\n",
        "2. Copias: Los objetos ndarray apuntan a diferentes direcciones de memoria.\n",
        "\n",
        "<img src=\"https://drive.google.com/uc?export=view&id=1GzLwQ1Ofd1_PHyri1y62MwqcpgLwFwom\" width=\"80%\" height=\"40%\"/>\n",
        "\n",
        "<img src=\"https://drive.google.com/uc?export=view&id=1E3xc3vkuIU7v9JR1PT5-0UFTsxlzyVpS\" width=\"80%\" height=\"30%\"/>"
      ],
      "metadata": {
        "id": "yxYs6qXg0a56"
      }
    },
    {
      "cell_type": "code",
      "source": [
        "a = np.random.randint(0,10,(3,4))\n",
        "a"
      ],
      "metadata": {
        "colab": {
          "base_uri": "https://localhost:8080/"
        },
        "id": "H47EDarq-rCO",
        "outputId": "b7882e3e-239e-406a-ffbb-5cb479e197e5"
      },
      "execution_count": null,
      "outputs": [
        {
          "output_type": "execute_result",
          "data": {
            "text/plain": [
              "array([[2, 6, 0, 1],\n",
              "       [7, 0, 6, 4],\n",
              "       [0, 1, 5, 6]])"
            ]
          },
          "metadata": {},
          "execution_count": 172
        }
      ]
    },
    {
      "cell_type": "code",
      "source": [
        "b = a "
      ],
      "metadata": {
        "id": "Dt4RN12z-wIb"
      },
      "execution_count": null,
      "outputs": []
    },
    {
      "cell_type": "code",
      "source": [
        "id(a),id(b)"
      ],
      "metadata": {
        "colab": {
          "base_uri": "https://localhost:8080/"
        },
        "id": "RCfKWn8v-zQU",
        "outputId": "79ffe635-930a-43c6-9467-35a450b928ef"
      },
      "execution_count": null,
      "outputs": [
        {
          "output_type": "execute_result",
          "data": {
            "text/plain": [
              "(140078091002480, 140078091002480)"
            ]
          },
          "metadata": {},
          "execution_count": 174
        }
      ]
    },
    {
      "cell_type": "code",
      "source": [
        "b.shape"
      ],
      "metadata": {
        "colab": {
          "base_uri": "https://localhost:8080/"
        },
        "id": "hDz5CB69-35f",
        "outputId": "076a997c-2408-44ef-9061-3934069bdcd9"
      },
      "execution_count": null,
      "outputs": [
        {
          "output_type": "execute_result",
          "data": {
            "text/plain": [
              "(3, 4)"
            ]
          },
          "metadata": {},
          "execution_count": 175
        }
      ]
    },
    {
      "cell_type": "code",
      "source": [
        "b.shape = (4,3)"
      ],
      "metadata": {
        "id": "F7UXMB29-86n"
      },
      "execution_count": null,
      "outputs": []
    },
    {
      "cell_type": "code",
      "source": [
        "b"
      ],
      "metadata": {
        "colab": {
          "base_uri": "https://localhost:8080/"
        },
        "id": "pT3J139p-_X6",
        "outputId": "c3e2aeba-7da9-47f0-c882-c5bae1065751"
      },
      "execution_count": null,
      "outputs": [
        {
          "output_type": "execute_result",
          "data": {
            "text/plain": [
              "array([[2, 6, 0],\n",
              "       [1, 7, 0],\n",
              "       [6, 4, 0],\n",
              "       [1, 5, 6]])"
            ]
          },
          "metadata": {},
          "execution_count": 177
        }
      ]
    },
    {
      "cell_type": "code",
      "source": [
        "a"
      ],
      "metadata": {
        "colab": {
          "base_uri": "https://localhost:8080/"
        },
        "id": "QsLRsQDG-_5_",
        "outputId": "007fddf4-e087-4d87-8268-1fc614ea2b08"
      },
      "execution_count": null,
      "outputs": [
        {
          "output_type": "execute_result",
          "data": {
            "text/plain": [
              "array([[2, 6, 0],\n",
              "       [1, 7, 0],\n",
              "       [6, 4, 0],\n",
              "       [1, 5, 6]])"
            ]
          },
          "metadata": {},
          "execution_count": 178
        }
      ]
    },
    {
      "cell_type": "code",
      "source": [
        "b[0,0] = 1000"
      ],
      "metadata": {
        "id": "L7rpGONl_CBL"
      },
      "execution_count": null,
      "outputs": []
    },
    {
      "cell_type": "code",
      "source": [
        "b"
      ],
      "metadata": {
        "colab": {
          "base_uri": "https://localhost:8080/"
        },
        "id": "knfmt0oF_IB_",
        "outputId": "3948de92-4ad1-4afa-fac8-51b295065eea"
      },
      "execution_count": null,
      "outputs": [
        {
          "output_type": "execute_result",
          "data": {
            "text/plain": [
              "array([[1000,    6,    0],\n",
              "       [   1,    7,    0],\n",
              "       [   6,    4,    0],\n",
              "       [   1,    5,    6]])"
            ]
          },
          "metadata": {},
          "execution_count": 180
        }
      ]
    },
    {
      "cell_type": "code",
      "source": [
        "a"
      ],
      "metadata": {
        "colab": {
          "base_uri": "https://localhost:8080/"
        },
        "id": "IkwIBGkh_IgX",
        "outputId": "eb7b82f3-e862-4b34-88d0-664b96563eff"
      },
      "execution_count": null,
      "outputs": [
        {
          "output_type": "execute_result",
          "data": {
            "text/plain": [
              "array([[1000,    6,    0],\n",
              "       [   1,    7,    0],\n",
              "       [   6,    4,    0],\n",
              "       [   1,    5,    6]])"
            ]
          },
          "metadata": {},
          "execution_count": 181
        }
      ]
    },
    {
      "cell_type": "code",
      "source": [
        "a = np.random.randint(0,10,(3,4))\n",
        "a"
      ],
      "metadata": {
        "colab": {
          "base_uri": "https://localhost:8080/"
        },
        "id": "gSKp81Hm_Kef",
        "outputId": "ef391d92-ccfd-4d95-9a81-227eb07af227"
      },
      "execution_count": null,
      "outputs": [
        {
          "output_type": "execute_result",
          "data": {
            "text/plain": [
              "array([[2, 5, 8, 5],\n",
              "       [4, 8, 3, 4],\n",
              "       [6, 0, 6, 1]])"
            ]
          },
          "metadata": {},
          "execution_count": 182
        }
      ]
    },
    {
      "cell_type": "code",
      "source": [
        "b = a.view()"
      ],
      "metadata": {
        "id": "1qaIPJ1I_X0r"
      },
      "execution_count": null,
      "outputs": []
    },
    {
      "cell_type": "code",
      "source": [
        "id(a),id(b)"
      ],
      "metadata": {
        "colab": {
          "base_uri": "https://localhost:8080/"
        },
        "id": "792cv696_aZI",
        "outputId": "9409f88e-5991-4e37-f8b7-4b679495c4e6"
      },
      "execution_count": null,
      "outputs": [
        {
          "output_type": "execute_result",
          "data": {
            "text/plain": [
              "(140078091041264, 140078091040304)"
            ]
          },
          "metadata": {},
          "execution_count": 184
        }
      ]
    },
    {
      "cell_type": "code",
      "source": [
        "b.shape = (4,3)"
      ],
      "metadata": {
        "id": "Z5oBP0dj_eAU"
      },
      "execution_count": null,
      "outputs": []
    },
    {
      "cell_type": "code",
      "source": [
        "b"
      ],
      "metadata": {
        "colab": {
          "base_uri": "https://localhost:8080/"
        },
        "id": "w1fXwBXx_jyK",
        "outputId": "0047b9dd-fe73-4f78-9560-869322b0cd9b"
      },
      "execution_count": null,
      "outputs": [
        {
          "output_type": "execute_result",
          "data": {
            "text/plain": [
              "array([[2, 5, 8],\n",
              "       [5, 4, 8],\n",
              "       [3, 4, 6],\n",
              "       [0, 6, 1]])"
            ]
          },
          "metadata": {},
          "execution_count": 186
        }
      ]
    },
    {
      "cell_type": "code",
      "source": [
        "a"
      ],
      "metadata": {
        "colab": {
          "base_uri": "https://localhost:8080/"
        },
        "id": "w34SkPvm_k85",
        "outputId": "bca6a778-b8fe-440f-f390-827050dea76d"
      },
      "execution_count": null,
      "outputs": [
        {
          "output_type": "execute_result",
          "data": {
            "text/plain": [
              "array([[2, 5, 8, 5],\n",
              "       [4, 8, 3, 4],\n",
              "       [6, 0, 6, 1]])"
            ]
          },
          "metadata": {},
          "execution_count": 187
        }
      ]
    },
    {
      "cell_type": "code",
      "source": [
        "b[0,0] = 1000"
      ],
      "metadata": {
        "id": "gz0mnuZ-_lhh"
      },
      "execution_count": null,
      "outputs": []
    },
    {
      "cell_type": "code",
      "source": [
        "b"
      ],
      "metadata": {
        "colab": {
          "base_uri": "https://localhost:8080/"
        },
        "id": "A41jnzhR_ojE",
        "outputId": "571bda54-37ae-4f72-e567-7647ac6abc92"
      },
      "execution_count": null,
      "outputs": [
        {
          "output_type": "execute_result",
          "data": {
            "text/plain": [
              "array([[1000,    5,    8],\n",
              "       [   5,    4,    8],\n",
              "       [   3,    4,    6],\n",
              "       [   0,    6,    1]])"
            ]
          },
          "metadata": {},
          "execution_count": 189
        }
      ]
    },
    {
      "cell_type": "code",
      "source": [
        "a"
      ],
      "metadata": {
        "colab": {
          "base_uri": "https://localhost:8080/"
        },
        "id": "sJE3106j_pEE",
        "outputId": "faca5744-8225-4db0-9290-6622b6cda4e8"
      },
      "execution_count": null,
      "outputs": [
        {
          "output_type": "execute_result",
          "data": {
            "text/plain": [
              "array([[1000,    5,    8,    5],\n",
              "       [   4,    8,    3,    4],\n",
              "       [   6,    0,    6,    1]])"
            ]
          },
          "metadata": {},
          "execution_count": 190
        }
      ]
    },
    {
      "cell_type": "code",
      "source": [
        "a = np.random.randint(0,10,(3,4))\n",
        "a"
      ],
      "metadata": {
        "colab": {
          "base_uri": "https://localhost:8080/"
        },
        "id": "HIZCTXCe_qxL",
        "outputId": "25ffbc89-81fb-48ce-878f-6277811440c9"
      },
      "execution_count": null,
      "outputs": [
        {
          "output_type": "execute_result",
          "data": {
            "text/plain": [
              "array([[7, 0, 5, 3],\n",
              "       [6, 6, 4, 8],\n",
              "       [5, 7, 0, 6]])"
            ]
          },
          "metadata": {},
          "execution_count": 191
        }
      ]
    },
    {
      "cell_type": "code",
      "source": [
        "b = a.copy()"
      ],
      "metadata": {
        "id": "L3ket83iABPI"
      },
      "execution_count": null,
      "outputs": []
    },
    {
      "cell_type": "code",
      "source": [
        "b"
      ],
      "metadata": {
        "colab": {
          "base_uri": "https://localhost:8080/"
        },
        "id": "FHxVpX8NAECg",
        "outputId": "c1f91f12-46a4-49da-8bd5-19a912d33ea3"
      },
      "execution_count": null,
      "outputs": [
        {
          "output_type": "execute_result",
          "data": {
            "text/plain": [
              "array([[7, 0, 5, 3],\n",
              "       [6, 6, 4, 8],\n",
              "       [5, 7, 0, 6]])"
            ]
          },
          "metadata": {},
          "execution_count": 193
        }
      ]
    },
    {
      "cell_type": "code",
      "source": [
        "id(a),id(b)"
      ],
      "metadata": {
        "colab": {
          "base_uri": "https://localhost:8080/"
        },
        "id": "fvg8oIHKAEam",
        "outputId": "cd0b2cbf-4276-4b7b-bb8f-f142b016c3a2"
      },
      "execution_count": null,
      "outputs": [
        {
          "output_type": "execute_result",
          "data": {
            "text/plain": [
              "(140078090841712, 140078090929136)"
            ]
          },
          "metadata": {},
          "execution_count": 194
        }
      ]
    },
    {
      "cell_type": "code",
      "source": [
        "b.shape = (4,3)\n",
        "b[0,0] = 1000"
      ],
      "metadata": {
        "id": "pE-LKbpDAHQS"
      },
      "execution_count": null,
      "outputs": []
    },
    {
      "cell_type": "code",
      "source": [
        "b"
      ],
      "metadata": {
        "colab": {
          "base_uri": "https://localhost:8080/"
        },
        "id": "uf812QquANP0",
        "outputId": "aae06987-37ac-4cd2-cfae-84a6085d4a25"
      },
      "execution_count": null,
      "outputs": [
        {
          "output_type": "execute_result",
          "data": {
            "text/plain": [
              "array([[1000,    0,    5],\n",
              "       [   3,    6,    6],\n",
              "       [   4,    8,    5],\n",
              "       [   7,    0,    6]])"
            ]
          },
          "metadata": {},
          "execution_count": 197
        }
      ]
    },
    {
      "cell_type": "code",
      "source": [
        "a"
      ],
      "metadata": {
        "colab": {
          "base_uri": "https://localhost:8080/"
        },
        "id": "qrAeoatpANlX",
        "outputId": "2483f351-ce7b-4c5d-c96b-cebe04575fcc"
      },
      "execution_count": null,
      "outputs": [
        {
          "output_type": "execute_result",
          "data": {
            "text/plain": [
              "array([[7, 0, 5, 3],\n",
              "       [6, 6, 4, 8],\n",
              "       [5, 7, 0, 6]])"
            ]
          },
          "metadata": {},
          "execution_count": 198
        }
      ]
    },
    {
      "cell_type": "code",
      "source": [
        "def myFunc(a):\n",
        "    a[0,0] = 23\n",
        "    plot()\n",
        "    "
      ],
      "metadata": {
        "id": "4USZDu9CAPJA"
      },
      "execution_count": null,
      "outputs": []
    },
    {
      "cell_type": "code",
      "source": [
        "a[0,0] != a_init[0,0]"
      ],
      "metadata": {
        "id": "RejD2gmQAZmE"
      },
      "execution_count": null,
      "outputs": []
    }
  ]
}